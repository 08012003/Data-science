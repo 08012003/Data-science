{
  "nbformat": 4,
  "nbformat_minor": 0,
  "metadata": {
    "colab": {
      "provenance": []
    },
    "kernelspec": {
      "name": "python3",
      "display_name": "Python 3"
    },
    "language_info": {
      "name": "python"
    }
  },
  "cells": [
    {
      "cell_type": "markdown",
      "source": [
        "## Q1. What is a database? Differentiate between SQL and NoSQL databases."
      ],
      "metadata": {
        "id": "ElH7V6iQ0rX0"
      }
    },
    {
      "cell_type": "markdown",
      "source": [
        "A **database** is a system used to store, organize, and manage data. It allows easy access, management, and updating of information.\n",
        "\n",
        "## Difference Between SQL and NoSQL Databases\n",
        "\n",
        "| **Feature**      | **SQL Databases**                       | **NoSQL Databases**                     |\n",
        "|------------------|-----------------------------------------|-----------------------------------------|\n",
        "| **Structure**    | Relational (tables, rows, columns)      | Non-relational (key-value, documents, graphs) |\n",
        "| **Language**     | Structured Query Language (SQL)         | Varies (key-value, document queries, etc.)  |\n",
        "| **Scalability**  | Vertical scaling (increasing server power) | Horizontal scaling (adding more servers)  |\n",
        "| **Schema**       | Fixed schema                            | Flexible schema (different data types)  |\n",
        "| **Transactions** | Supports ACID (Atomicity, Consistency, Isolation, Durability) | Less support for ACID, more flexible |\n",
        "| **Use Cases**    | Best for structured data (banking, finance) | Best for unstructured or large-scale data (social media, real-time analytics) |\n",
        "\n"
      ],
      "metadata": {
        "id": "-n_zgf9z15Ip"
      }
    },
    {
      "cell_type": "markdown",
      "source": [
        "## Q2. What is DDL? Explain why CREATE, DROP, ALTER, and TRUNCATE are used with an example."
      ],
      "metadata": {
        "id": "OdTPZgsJ2Ki4"
      }
    },
    {
      "cell_type": "markdown",
      "source": [
        "DDL stands for Data Definition Language. It consists of SQL commands used to define and manage the structure of a database, such as creating, modifying, and deleting database objects like tables, views, and indexes.\n",
        "\n",
        "\n",
        "### Commands in DDL:\n",
        "\n",
        "1. **CREATE**:\n",
        "   - **Purpose**: Used to create a new database object (e.g., a table, view, or index).\n",
        "   - **Example**:\n",
        "     ```sql\n",
        "     CREATE TABLE students (\n",
        "         student_id INT PRIMARY KEY,\n",
        "         name VARCHAR(100),\n",
        "         age INT\n",
        "     );\n",
        "     ```\n",
        "\n",
        "2. **DROP**:\n",
        "   - **Purpose**: Used to delete a database object, such as a table or view.\n",
        "   - **Example**:\n",
        "     ```sql\n",
        "     DROP TABLE students;\n",
        "     ```\n",
        "\n",
        "3. **ALTER**:\n",
        "   - **Purpose**: Used to modify an existing database object (e.g., adding, deleting, or modifying columns in a table).\n",
        "   - **Example**:\n",
        "     ```sql\n",
        "     ALTER TABLE students ADD COLUMN email VARCHAR(100);\n",
        "     ```\n",
        "\n",
        "4. **TRUNCATE**:\n",
        "   - **Purpose**: Used to remove all rows from a table but keeps the table structure intact (faster than DELETE).\n",
        "   - **Example**:\n",
        "     ```sql\n",
        "     TRUNCATE TABLE students;\n",
        "     ```\n"
      ],
      "metadata": {
        "id": "MEzLI2pF2LeL"
      }
    },
    {
      "cell_type": "markdown",
      "source": [
        "## Q3. What is DML? Explain INSERT, UPDATE, and DELETE with an example."
      ],
      "metadata": {
        "id": "q88asoJA2kRv"
      }
    },
    {
      "cell_type": "markdown",
      "source": [
        "**DML** stands for **Data Manipulation Language**. It consists of SQL commands used to manage and manipulate the data within database tables. DML operations allow users to insert, update, delete, and retrieve data from a database.\n",
        "\n",
        "### Commands in DML:\n",
        "\n",
        "1. **INSERT**:\n",
        "   - **Purpose**: Used to add new records (rows) into a table.\n",
        "   - **Example**:\n",
        "     ```sql\n",
        "     INSERT INTO students (student_id, name, age)\n",
        "     VALUES (1, 'John Doe', 20);\n",
        "     ```\n",
        "\n",
        "2. **UPDATE**:\n",
        "   - **Purpose**: Used to modify existing records in a table.\n",
        "   - **Example**:\n",
        "     ```sql\n",
        "     UPDATE students\n",
        "     SET age = 21\n",
        "     WHERE student_id = 1;\n",
        "     ```\n",
        "\n",
        "3. **DELETE**:\n",
        "   - **Purpose**: Used to remove records from a table.\n",
        "   - **Example**:\n",
        "     ```sql\n",
        "     DELETE FROM students\n",
        "     WHERE student_id = 1;\n",
        "     ```"
      ],
      "metadata": {
        "id": "3vaMu37v2m6j"
      }
    },
    {
      "cell_type": "markdown",
      "source": [
        "## Q4. What is DQL? Explain SELECT with an example."
      ],
      "metadata": {
        "id": "MFzlVkMZ2vOI"
      }
    },
    {
      "cell_type": "markdown",
      "source": [
        "**DQL** stands for **Data Query Language**. It consists of SQL commands used to query (retrieve) data from a database. The main command in DQL is **SELECT**, which allows users to fetch data from one or more tables.\n",
        "\n",
        "### SELECT Command:\n",
        "\n",
        "- **Purpose**: Used to retrieve data from a database table.\n",
        "- **Syntax**:\n",
        "  ```sql\n",
        "  SELECT column1, column2, ...\n",
        "  FROM table_name\n",
        "  WHERE condition;\n",
        "\n",
        "\n",
        "- Example:\n",
        "  ```sql\n",
        "  SELECT name, age\n",
        "  FROM students\n",
        "  WHERE age > 18;"
      ],
      "metadata": {
        "id": "WhTedLJu27WZ"
      }
    },
    {
      "cell_type": "markdown",
      "source": [
        "## Q5. Explain Primary Key and Foreign Key."
      ],
      "metadata": {
        "id": "N-gkJ5803PmO"
      }
    },
    {
      "cell_type": "markdown",
      "source": [
        "### Primary Key:\n",
        "\n",
        "- **Primary Key** is a column or set of columns in a table that uniquely identifies each row in the table. It cannot contain **NULL** values, and each value must be unique.\n",
        "\n",
        "### Foreign Key:\n",
        "- **Foreign Key** is a column or set of columns in one table that refers to the Primary Key in another table. It is used to establish and enforce a link between the data in the two tables."
      ],
      "metadata": {
        "id": "BIIlHLIX3UKi"
      }
    },
    {
      "cell_type": "markdown",
      "source": [
        "Q6. Write a python code to connect MySQL to python. Explain the cursor() and execute() method."
      ],
      "metadata": {
        "id": "cF1EC0Al3i5L"
      }
    },
    {
      "cell_type": "code",
      "source": [
        "import mysql.connector\n",
        "\n",
        "# Establishing the connection\n",
        "conn = mysql.connector.connect(\n",
        "    host=\"localhost\",\n",
        "    user=\"your_username\",\n",
        "    password=\"your_password\",\n",
        "    database=\"your_database\"\n",
        ")\n",
        "\n",
        "cursor = conn.cursor()\n",
        "\n",
        "cursor.execute(\"SELECT * FROM your_table\")\n",
        "\n",
        "results = cursor.fetchall()\n",
        "\n",
        "for row in results:\n",
        "    print(row)\n",
        "\n",
        "conn.close()"
      ],
      "metadata": {
        "id": "AeJGG_aL3lt9"
      },
      "execution_count": null,
      "outputs": []
    },
    {
      "cell_type": "markdown",
      "source": [
        "1. cursor() Method: This method creates a cursor object that allows you to interact with the database. It is used to execute SQL queries and fetch data.\n",
        "\n",
        "\n",
        "2. execute() Method: This method is used to execute an SQL query through the cursor object. It can run SELECT, INSERT, UPDATE, DELETE, or any other SQL commands.\n"
      ],
      "metadata": {
        "id": "HGLFUGsb3xlY"
      }
    },
    {
      "cell_type": "markdown",
      "source": [
        "## Q7. Give the order of execution of SQL clauses in an SQL query."
      ],
      "metadata": {
        "id": "7vs0eUDQ3-5v"
      }
    },
    {
      "cell_type": "markdown",
      "source": [
        "## Order of Execution of SQL Clauses\n",
        "\n",
        "1. **FROM**: Specifies the table(s) to retrieve data from.\n",
        "2. **JOIN**: Joins two or more tables together based on a condition.\n",
        "3. **ON**: Specifies the condition for the JOIN.\n",
        "4. **WHERE**: Filters the rows based on a condition.\n",
        "5. **GROUP BY**: Groups the rows based on one or more columns.\n",
        "6. **HAVING**: Filters groups created by the GROUP BY clause.\n",
        "7. **SELECT**: Selects the columns to be retrieved.\n",
        "8. **DISTINCT**: Removes duplicate rows from the result set.\n",
        "9. **ORDER BY**: Sorts the result set based on one or more columns.\n",
        "10. **LIMIT**: Limits the number of rows returned by the query."
      ],
      "metadata": {
        "id": "RRjF92Gs4CO6"
      }
    }
  ]
}