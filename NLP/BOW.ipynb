{
  "nbformat": 4,
  "nbformat_minor": 0,
  "metadata": {
    "colab": {
      "provenance": []
    },
    "kernelspec": {
      "name": "python3",
      "display_name": "Python 3"
    },
    "language_info": {
      "name": "python"
    }
  },
  "cells": [
    {
      "cell_type": "markdown",
      "source": [
        "Data Cleaning"
      ],
      "metadata": {
        "id": "jkX4sHPPCWOQ"
      }
    },
    {
      "cell_type": "code",
      "source": [
        "sentence= \"!@ He love % NLP !\"\n",
        "\n",
        "import re  # regular expression or regex"
      ],
      "metadata": {
        "id": "O56nmuL6CZ6X"
      },
      "execution_count": 1,
      "outputs": []
    },
    {
      "cell_type": "markdown",
      "source": [
        "How to use regex"
      ],
      "metadata": {
        "id": "Ie8FceluCuZr"
      }
    },
    {
      "cell_type": "code",
      "source": [
        "import re\n",
        "sentence2= \"It is raining outside\"\n",
        "print(re.sub(r\"raining\", \"sunny\", sentence2))"
      ],
      "metadata": {
        "colab": {
          "base_uri": "https://localhost:8080/"
        },
        "id": "5WofIpI8Crp0",
        "outputId": "9edb97ff-f524-410e-c95a-c6becd5d5e70"
      },
      "execution_count": 2,
      "outputs": [
        {
          "output_type": "stream",
          "name": "stdout",
          "text": [
            "It is sunny outside\n"
          ]
        }
      ]
    },
    {
      "cell_type": "code",
      "source": [
        "sentence3=\"I love my India\"\n",
        "print(re.sub(r\"India\", \"Country\", sentence3))"
      ],
      "metadata": {
        "colab": {
          "base_uri": "https://localhost:8080/"
        },
        "id": "4PJaruBSDTR8",
        "outputId": "8c4d32c7-8681-47c0-d9fd-9b202c28698f"
      },
      "execution_count": 3,
      "outputs": [
        {
          "output_type": "stream",
          "name": "stdout",
          "text": [
            "I love my Country\n"
          ]
        }
      ]
    },
    {
      "cell_type": "code",
      "source": [
        "sentence= \"!@ He love % NLP !\"\n",
        "\n",
        "print(re.sub(r\"@\", \"\", sentence))"
      ],
      "metadata": {
        "colab": {
          "base_uri": "https://localhost:8080/"
        },
        "id": "SOgev3wnEy3s",
        "outputId": "59a21fdd-1a98-4c61-fa30-05e4ba630209"
      },
      "execution_count": 6,
      "outputs": [
        {
          "output_type": "stream",
          "name": "stdout",
          "text": [
            "! He love % NLP !\n"
          ]
        }
      ]
    },
    {
      "cell_type": "code",
      "source": [
        "sentence= \"!@ He love % NLP !\"\n",
        "\n",
        "print(re.sub(r\"[!@%]\", \"\", sentence))"
      ],
      "metadata": {
        "colab": {
          "base_uri": "https://localhost:8080/"
        },
        "id": "6K6D4sP2DldJ",
        "outputId": "e9d96eda-37f8-491d-aca4-e5db04f94125"
      },
      "execution_count": 7,
      "outputs": [
        {
          "output_type": "stream",
          "name": "stdout",
          "text": [
            " He love  NLP \n"
          ]
        }
      ]
    },
    {
      "cell_type": "code",
      "source": [
        "sentence"
      ],
      "metadata": {
        "colab": {
          "base_uri": "https://localhost:8080/",
          "height": 36
        },
        "id": "o8Pg1M3dEgGD",
        "outputId": "2c72999b-0682-4722-888c-ffd8cb441dfa"
      },
      "execution_count": 8,
      "outputs": [
        {
          "output_type": "execute_result",
          "data": {
            "text/plain": [
              "'!@ He love % NLP !'"
            ],
            "application/vnd.google.colaboratory.intrinsic+json": {
              "type": "string"
            }
          },
          "metadata": {},
          "execution_count": 8
        }
      ]
    },
    {
      "cell_type": "code",
      "source": [
        "sentence= \"!@ He love % NLP !\"\n",
        "\n",
        "print(re.sub(r\"[^a-zA-Z]\", \" \", sentence))"
      ],
      "metadata": {
        "colab": {
          "base_uri": "https://localhost:8080/"
        },
        "id": "nJpYyWJDFh5j",
        "outputId": "25fe1ec4-553b-4fa6-c483-d43c52e1dfb4"
      },
      "execution_count": 10,
      "outputs": [
        {
          "output_type": "stream",
          "name": "stdout",
          "text": [
            "   He love   NLP  \n"
          ]
        }
      ]
    },
    {
      "cell_type": "code",
      "source": [
        "paragraph =  \"\"\"I have three visions for India. In 3000 years of our history, people from all over\n",
        "               the world have come and invaded us, captured our lands, conquered our minds.\n",
        "               From Alexander onwards, the Greeks, the Turks, the Moguls, the Portuguese, the British,\n",
        "               the French, the Dutch, all of them came and looted us, took over what was ours.\n",
        "               Yet we have not done this to any other nation. We have not conquered anyone.\n",
        "               We have not grabbed their land, their culture,\n",
        "               their history and tried to enforce our way of life on them.\n",
        "               Why? Because we respect the freedom of others.That is why my\n",
        "               first vision is that of freedom. I believe that India got its first vision of\n",
        "               this in 1857, when we started the War of Independence. It is this freedom that\n",
        "               we must protect and nurture and build on. If we are not free, no one will respect us.\n",
        "               My second vision for India’s development. For fifty years we have been a developing nation.\n",
        "               It is time we see ourselves as a developed nation. We are among the top 5 nations of the world\n",
        "               in terms of GDP. We have a 10 percent growth rate in most areas. Our poverty levels are falling.\n",
        "               Our achievements are being globally recognised today. Yet we lack the self-confidence to\n",
        "               see ourselves as a developed nation, self-reliant and self-assured. Isn’t this incorrect?\n",
        "               I have a third vision. India must stand up to the world. Because I believe that unless India\n",
        "               stands up to the world, no one will respect us. Only strength respects strength. We must be\n",
        "               strong not only as a military power but also as an economic power. Both must go hand-in-hand.\n",
        "               My good fortune was to have worked with three great minds. Dr. Vikram Sarabhai of the Dept. of\n",
        "               space, Professor Satish Dhawan, who succeeded him and Dr. Brahm Prakash, father of nuclear material.\n",
        "               I was lucky to have worked with all three of them closely and consider this the great opportunity of my life.\"\"\""
      ],
      "metadata": {
        "id": "w5ml8tPIFrfp"
      },
      "execution_count": 11,
      "outputs": []
    },
    {
      "cell_type": "code",
      "source": [
        "import nltk\n",
        "nltk.download('punkt')\n",
        "nltk.download('stopwords')\n",
        "from nltk.stem.porter import PorterStemmer"
      ],
      "metadata": {
        "colab": {
          "base_uri": "https://localhost:8080/"
        },
        "id": "Nx7CmN38GZJM",
        "outputId": "8f1fd497-3596-46de-cbfc-8a7f4e943fc6"
      },
      "execution_count": 14,
      "outputs": [
        {
          "output_type": "stream",
          "name": "stderr",
          "text": [
            "[nltk_data] Downloading package punkt to /root/nltk_data...\n",
            "[nltk_data]   Package punkt is already up-to-date!\n",
            "[nltk_data] Downloading package stopwords to /root/nltk_data...\n",
            "[nltk_data]   Unzipping corpora/stopwords.zip.\n"
          ]
        }
      ]
    },
    {
      "cell_type": "code",
      "source": [
        "stemmer= PorterStemmer()\n",
        "sentences= nltk.sent_tokenize(paragraph)\n",
        "corpus=[]\n",
        "\n",
        "#Data processing\n",
        "for i in range(len(sentences)):\n",
        "  new_sent= re.sub('[^a-zA-Z]', ' ', sentences[i])   #data cleaning step\n",
        "  new_sent= new_sent.lower()   #lowering\n",
        "  new_sent= new_sent.split()\n",
        "  print(new_sent)\n",
        "\n",
        "  # to remove stop words\n",
        "  new_sent = [stemmer.stem(word) for word in new_sent if not word in set(nltk.corpus.stopwords.words('english'))]\n",
        "  new_sent = ' '.join(new_sent)\n",
        "  corpus.append(new_sent)"
      ],
      "metadata": {
        "id": "JbhtXWSSImSL"
      },
      "execution_count": null,
      "outputs": []
    },
    {
      "cell_type": "code",
      "source": [
        "#dtat is rady\n",
        "#convert text to number\n",
        "\n",
        "print(corpus)"
      ],
      "metadata": {
        "colab": {
          "base_uri": "https://localhost:8080/"
        },
        "id": "TzEGhFGcJbbw",
        "outputId": "d265c421-14ba-4b10-ba84-138b766f764a"
      },
      "execution_count": 34,
      "outputs": [
        {
          "output_type": "stream",
          "name": "stdout",
          "text": [
            "['three vision india', 'year histori peopl world come invad us captur land conquer mind', 'alexand onward greek turk mogul portugues british french dutch came loot us took', 'yet done nation', 'conquer anyon', 'grab land cultur histori tri enforc way life', '', 'respect freedom other first vision freedom', 'believ india got first vision start war independ', 'freedom must protect nurtur build', 'free one respect us', 'second vision india develop', 'fifti year develop nation', 'time see develop nation', 'among top nation world term gdp', 'percent growth rate area', 'poverti level fall', 'achiev global recognis today', 'yet lack self confid see develop nation self reliant self assur', 'incorrect', 'third vision', 'india must stand world', 'believ unless india stand world one respect us', 'strength respect strength', 'must strong militari power also econom power', 'must go hand hand', 'good fortun work three great mind', 'dr vikram sarabhai dept', 'space professor satish dhawan succeed dr brahm prakash father nuclear materi', 'lucki work three close consid great opportun life']\n"
          ]
        }
      ]
    },
    {
      "cell_type": "code",
      "source": [
        "from sklearn.feature_extraction.text import CountVectorizer\n",
        "cv = CountVectorizer(max_features = 2000, stop_words = 'english', lowercase = True)\n",
        "X = cv.fit_transform(corpus).toarray()\n",
        "X"
      ],
      "metadata": {
        "colab": {
          "base_uri": "https://localhost:8080/"
        },
        "id": "dpbfHQ32OQtU",
        "outputId": "c93ee26c-df85-4ff8-eaee-afe2651bc700"
      },
      "execution_count": 35,
      "outputs": [
        {
          "output_type": "execute_result",
          "data": {
            "text/plain": [
              "array([[0, 0, 0, ..., 0, 0, 0],\n",
              "       [0, 0, 0, ..., 0, 1, 1],\n",
              "       [0, 1, 0, ..., 0, 0, 0],\n",
              "       ...,\n",
              "       [0, 0, 0, ..., 0, 0, 0],\n",
              "       [0, 0, 0, ..., 0, 0, 0],\n",
              "       [0, 0, 0, ..., 1, 0, 0]])"
            ]
          },
          "metadata": {},
          "execution_count": 35
        }
      ]
    },
    {
      "cell_type": "code",
      "source": [],
      "metadata": {
        "id": "3KZQ4-NhOTK-"
      },
      "execution_count": null,
      "outputs": []
    }
  ]
}