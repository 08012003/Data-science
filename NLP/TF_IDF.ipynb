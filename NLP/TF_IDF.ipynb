{
  "nbformat": 4,
  "nbformat_minor": 0,
  "metadata": {
    "colab": {
      "provenance": []
    },
    "kernelspec": {
      "name": "python3",
      "display_name": "Python 3"
    },
    "language_info": {
      "name": "python"
    }
  },
  "cells": [
    {
      "cell_type": "markdown",
      "source": [
        "BOW and TF IDF Implementation"
      ],
      "metadata": {
        "id": "n17e_yikkaS2"
      }
    },
    {
      "cell_type": "code",
      "source": [
        "#how to find unique word in your corpus\n",
        "#vocab\n",
        "\n",
        "corpus= ['This is the first sentence in our corpus followed by one more sentence to demonstrate Bag of Words',\n",
        "          'This is the sencond sentence in our corpus with a FEW UPPER WORDS and Few Title Case Words',\n",
        "          'this is the third sentence in our corpus']"
      ],
      "metadata": {
        "id": "cZItGHAnkdkO"
      },
      "execution_count": 5,
      "outputs": []
    },
    {
      "cell_type": "code",
      "source": [
        "#if the variable contain list means you dont have to do tokenization"
      ],
      "metadata": {
        "id": "l0sQNLPKlMhx"
      },
      "execution_count": 4,
      "outputs": []
    },
    {
      "cell_type": "code",
      "source": [
        "vocab=[]\n",
        "total_words=0\n",
        "\n",
        "for sentence in corpus:\n",
        "  sentence = sentence.lower()\n",
        "  token_temp= sentence.split()\n",
        "  total_words= total_words+len(token_temp)\n",
        "  for i in range(len(token_temp)):\n",
        "    if token_temp[i] not in vocab:\n",
        "      vocab.append(token_temp[i])\n",
        "\n",
        "vocab.sort()\n",
        "print(vocab)\n",
        "print('\\nThere are {} words in vocabulary'.format(len(vocab)))\n",
        "print('A total of {} words in corpus'.format(total_words))"
      ],
      "metadata": {
        "colab": {
          "base_uri": "https://localhost:8080/"
        },
        "id": "NEZeqpuNlNvM",
        "outputId": "f995b681-88bd-4190-cab6-101f39fdd9c2"
      },
      "execution_count": 19,
      "outputs": [
        {
          "output_type": "stream",
          "name": "stdout",
          "text": [
            "['a', 'and', 'bag', 'by', 'case', 'corpus', 'demonstrate', 'few', 'first', 'followed', 'in', 'is', 'more', 'of', 'one', 'our', 'sencond', 'sentence', 'the', 'third', 'this', 'title', 'to', 'upper', 'with', 'words']\n",
            "\n",
            "There are 26 words in vocabulary\n",
            "A total of 44 words in corpus\n"
          ]
        }
      ]
    },
    {
      "cell_type": "code",
      "source": [
        "from sklearn.feature_extraction.text import TfidfVectorizer\n",
        "\n",
        "data = [ \"I love Natural language Processing\",\n",
        "        \"creating word vectors\",\n",
        "         \"Is my jam!\" ]\n",
        "\n",
        "# BOW\n",
        "from sklearn.feature_extraction.text import CountVectorizer\n",
        "cv = CountVectorizer()\n",
        "X_bow = cv.fit_transform(data).toarray()\n",
        "print(\"BOW:\", X_bow)\n",
        "\n",
        "\n",
        "print()\n",
        "\n",
        "\n",
        "#TF_IDF\n",
        "from sklearn.feature_extraction.text import TfidfVectorizer\n",
        "# fit\n",
        "tfvectorizer = TfidfVectorizer()\n",
        "X_tfidf = tfvectorizer.fit_transform(data).toarray()\n",
        "print(\"TF_IDF:\",X_tfidf)\n"
      ],
      "metadata": {
        "colab": {
          "base_uri": "https://localhost:8080/"
        },
        "id": "2ak88Lj8svne",
        "outputId": "a08e3813-915e-44c7-e319-90502133c3e1"
      },
      "execution_count": 33,
      "outputs": [
        {
          "output_type": "stream",
          "name": "stdout",
          "text": [
            "BOW: [[0 0 0 1 1 0 1 1 0 0]\n",
            " [1 0 0 0 0 0 0 0 1 1]\n",
            " [0 1 1 0 0 1 0 0 0 0]]\n",
            "\n",
            "TF_IDF: [[0.         0.         0.         0.5        0.5        0.\n",
            "  0.5        0.5        0.         0.        ]\n",
            " [0.57735027 0.         0.         0.         0.         0.\n",
            "  0.         0.         0.57735027 0.57735027]\n",
            " [0.         0.57735027 0.57735027 0.         0.         0.57735027\n",
            "  0.         0.         0.         0.        ]]\n"
          ]
        }
      ]
    },
    {
      "cell_type": "code",
      "source": [],
      "metadata": {
        "id": "ed0IWYoP_msO"
      },
      "execution_count": null,
      "outputs": []
    }
  ]
}