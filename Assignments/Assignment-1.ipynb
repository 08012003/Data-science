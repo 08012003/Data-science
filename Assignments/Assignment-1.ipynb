{
 "cells": [
  {
   "cell_type": "markdown",
   "id": "094aeaac-ccca-4e86-aff1-f9841c1035ab",
   "metadata": {},
   "source": [
    "Q1. Create one variable containing following type of data:\n",
    "\n",
    "(i)\tstring\n",
    "\n",
    "(ii)\tlist\n",
    "\n",
    "(iii)\tfloat\n",
    "\n",
    "(iv)\ttuple"
   ]
  },
  {
   "cell_type": "code",
   "execution_count": 1,
   "id": "b971cda1-002c-454b-8433-49f0b15e9b73",
   "metadata": {},
   "outputs": [],
   "source": [
    "String=\"Aniket\",\"Ashok\",\"Aditya\""
   ]
  },
  {
   "cell_type": "code",
   "execution_count": 2,
   "id": "2a235f4a-ab25-4971-86a3-237b02777c9f",
   "metadata": {},
   "outputs": [
    {
     "name": "stdout",
     "output_type": "stream",
     "text": [
      "('Aniket', 'Ashok', 'Aditya')\n"
     ]
    }
   ],
   "source": [
    "print(String)"
   ]
  },
  {
   "cell_type": "code",
   "execution_count": 3,
   "id": "4e38d9bb-2d36-44d0-98f5-4c3d11e98648",
   "metadata": {},
   "outputs": [],
   "source": [
    "List=[\"anu\",10,20,2.2,True]"
   ]
  },
  {
   "cell_type": "code",
   "execution_count": 4,
   "id": "502f443b-d443-43dd-ba35-290caa7a4681",
   "metadata": {},
   "outputs": [
    {
     "name": "stdout",
     "output_type": "stream",
     "text": [
      "['anu', 10, 20, 2.2, True]\n"
     ]
    }
   ],
   "source": [
    "print(List)"
   ]
  },
  {
   "cell_type": "code",
   "execution_count": 5,
   "id": "82e1a818-ad8e-4867-a8f7-20f34b6b8547",
   "metadata": {},
   "outputs": [],
   "source": [
    "Float=2.2"
   ]
  },
  {
   "cell_type": "code",
   "execution_count": 6,
   "id": "37497d80-63ac-4cf2-a11d-c3fdd22eb84a",
   "metadata": {},
   "outputs": [
    {
     "name": "stdout",
     "output_type": "stream",
     "text": [
      "2.2\n"
     ]
    }
   ],
   "source": [
    "print(Float)"
   ]
  },
  {
   "cell_type": "code",
   "execution_count": 7,
   "id": "f0f0dcf1-a572-44ab-a81d-1f511d06428d",
   "metadata": {},
   "outputs": [],
   "source": [
    "Tuple=(20,30,40,\"anu\")"
   ]
  },
  {
   "cell_type": "code",
   "execution_count": 8,
   "id": "70f2c80e-e581-4648-8c6a-15b6e8179038",
   "metadata": {},
   "outputs": [
    {
     "name": "stdout",
     "output_type": "stream",
     "text": [
      "(20, 30, 40, 'anu')\n"
     ]
    }
   ],
   "source": [
    "print(Tuple)"
   ]
  },
  {
   "cell_type": "markdown",
   "id": "2021bf2e-00cd-4345-b70d-8dcff388740d",
   "metadata": {},
   "source": [
    "Q2. Given are some following variables containing data:\n",
    "\n",
    "(i)\tvar1 = ‘ ‘\n",
    "\n",
    "(ii)\tvar2 = ‘[ DS , ML , Python]’\n",
    "\n",
    "(iii)\tvar3 = [ ‘DS’ , ’ML’ , ‘Python’ ]\n",
    "\n",
    "(iv)\tvar4 = 1.\n",
    "\n",
    "What will be the data type of the above given variable."
   ]
  },
  {
   "cell_type": "code",
   "execution_count": 9,
   "id": "d83af8ba-7933-4cbb-b7ed-38815d81ca4a",
   "metadata": {},
   "outputs": [],
   "source": [
    "var1=''"
   ]
  },
  {
   "cell_type": "code",
   "execution_count": 10,
   "id": "777270f1-e30d-42bb-a39b-cb8a21b04cce",
   "metadata": {},
   "outputs": [
    {
     "data": {
      "text/plain": [
       "str"
      ]
     },
     "execution_count": 10,
     "metadata": {},
     "output_type": "execute_result"
    }
   ],
   "source": [
    "type(var1)"
   ]
  },
  {
   "cell_type": "code",
   "execution_count": 11,
   "id": "d9a6e3b7-f332-47ab-9853-274fe4765a3c",
   "metadata": {},
   "outputs": [],
   "source": [
    "var2='[DS,ML,Python]'"
   ]
  },
  {
   "cell_type": "code",
   "execution_count": 12,
   "id": "73befce1-480e-4efe-947d-b44b9d9eeebe",
   "metadata": {},
   "outputs": [
    {
     "data": {
      "text/plain": [
       "str"
      ]
     },
     "execution_count": 12,
     "metadata": {},
     "output_type": "execute_result"
    }
   ],
   "source": [
    "type(var2)"
   ]
  },
  {
   "cell_type": "code",
   "execution_count": 13,
   "id": "619577e1-a5f6-4e2b-a0fe-ce668918700c",
   "metadata": {},
   "outputs": [],
   "source": [
    "var3=['DS','ML','Python']"
   ]
  },
  {
   "cell_type": "code",
   "execution_count": 14,
   "id": "96cce3a5-3695-4028-b9b2-790cd5c5c8c1",
   "metadata": {},
   "outputs": [
    {
     "data": {
      "text/plain": [
       "list"
      ]
     },
     "execution_count": 14,
     "metadata": {},
     "output_type": "execute_result"
    }
   ],
   "source": [
    "type(var3)"
   ]
  },
  {
   "cell_type": "code",
   "execution_count": 15,
   "id": "e6b85c60-0fa1-4635-8c1d-b6b52839103a",
   "metadata": {},
   "outputs": [],
   "source": [
    "var4=1"
   ]
  },
  {
   "cell_type": "code",
   "execution_count": 16,
   "id": "0992cbf8-db96-4840-ada1-5eddb96f1354",
   "metadata": {},
   "outputs": [
    {
     "data": {
      "text/plain": [
       "int"
      ]
     },
     "execution_count": 16,
     "metadata": {},
     "output_type": "execute_result"
    }
   ],
   "source": [
    "type(var4)"
   ]
  },
  {
   "cell_type": "markdown",
   "id": "08919046-bb4e-4fc9-9e96-4eacf147e91a",
   "metadata": {},
   "source": [
    "Q3. Explain the use of the following operators using an example:\n",
    "\n",
    "(i)\t/\n",
    "\n",
    "(ii)\t% \n",
    "\n",
    "(iii)\t//\n",
    "\n",
    "(iv)\t**"
   ]
  },
  {
   "cell_type": "markdown",
   "id": "336fd8f5-0756-4988-a343-8a5c036fe18b",
   "metadata": {},
   "source": [
    "(i)\t/ : division operator is used to divide a number by another number"
   ]
  },
  {
   "cell_type": "code",
   "execution_count": 17,
   "id": "7cbba2d9-efb5-46bc-9f6f-6223ff4a1fa4",
   "metadata": {},
   "outputs": [
    {
     "name": "stdout",
     "output_type": "stream",
     "text": [
      "2.0\n"
     ]
    }
   ],
   "source": [
    "a=10\n",
    "b=5\n",
    "c=a/b\n",
    "print(c)"
   ]
  },
  {
   "cell_type": "markdown",
   "id": "2e0a851a-e9af-436f-b917-8450c779f830",
   "metadata": {},
   "source": [
    "(ii) % : modulus operator is used to get remainder of division"
   ]
  },
  {
   "cell_type": "code",
   "execution_count": 18,
   "id": "af2e7814-a401-40d3-a430-1211cda1757c",
   "metadata": {},
   "outputs": [
    {
     "name": "stdout",
     "output_type": "stream",
     "text": [
      "1\n"
     ]
    }
   ],
   "source": [
    "a=11%2\n",
    "print(a)"
   ]
  },
  {
   "cell_type": "markdown",
   "id": "5fa4dd3e-ecf2-4536-a046-32a081128023",
   "metadata": {},
   "source": [
    "(iii) //: floor division operator is used to get absolute division answer"
   ]
  },
  {
   "cell_type": "code",
   "execution_count": 19,
   "id": "74f1c2f5-6e4f-42fb-9f02-966adc8446e4",
   "metadata": {},
   "outputs": [
    {
     "name": "stdout",
     "output_type": "stream",
     "text": [
      "5\n"
     ]
    }
   ],
   "source": [
    "b=11//2\n",
    "print(b)"
   ]
  },
  {
   "cell_type": "markdown",
   "id": "8a0440a4-767c-4986-bfa3-0079a5675893",
   "metadata": {},
   "source": [
    "(iv) ** : exponentiation operator is used to get square & cube of number"
   ]
  },
  {
   "cell_type": "code",
   "execution_count": 20,
   "id": "d35952f4-b3a6-4dbc-b9c9-14e659a54009",
   "metadata": {},
   "outputs": [
    {
     "name": "stdout",
     "output_type": "stream",
     "text": [
      "100\n",
      "1000\n"
     ]
    }
   ],
   "source": [
    "c=10**2\n",
    "print(c)\n",
    "\n",
    "d=10**3\n",
    "print(d)"
   ]
  },
  {
   "cell_type": "markdown",
   "id": "dbcfc535-95f6-4682-9f0f-6f3b325ea8e8",
   "metadata": {},
   "source": [
    "Q4. Create a list of length 10 of your choice containing multiple types of data. Using for loop print the\n",
    "element and its data type."
   ]
  },
  {
   "cell_type": "code",
   "execution_count": 21,
   "id": "694db832-b5f4-460e-a6cc-603321eb1be8",
   "metadata": {},
   "outputs": [
    {
     "name": "stdout",
     "output_type": "stream",
     "text": [
      "10 <class 'int'>\n",
      "11 <class 'int'>\n",
      "anu <class 'str'>\n",
      "3.14 <class 'float'>\n",
      "True <class 'bool'>\n",
      "[1, 2, 3] <class 'list'>\n",
      "('apple', 'banana') <class 'tuple'>\n",
      "False <class 'bool'>\n",
      "[10, 20, 30] <class 'list'>\n",
      "2.2 <class 'float'>\n"
     ]
    }
   ],
   "source": [
    "List = [10,11, \"anu\", 3.14, True, [1, 2, 3], (\"apple\", \"banana\"), False, [10,20,30], 2.2]\n",
    "\n",
    "for data in List:\n",
    "    print(data, type(data))"
   ]
  },
  {
   "cell_type": "markdown",
   "id": "7719179f-a04c-4cf0-9809-05e059a3a588",
   "metadata": {},
   "source": [
    "Q5. Using a while loop, verify if the number A is purely divisible by number B and if so then how many\n",
    "times it can be divisible."
   ]
  },
  {
   "cell_type": "code",
   "execution_count": 22,
   "id": "0f0aa272-ab58-4a4e-a7a6-94f0cb17f5b6",
   "metadata": {},
   "outputs": [
    {
     "name": "stdin",
     "output_type": "stream",
     "text": [
      "Enter number A:  10\n",
      "Enter number B:  2\n"
     ]
    },
    {
     "name": "stdout",
     "output_type": "stream",
     "text": [
      "2 can divide 10 , 5  times.\n"
     ]
    }
   ],
   "source": [
    "A = int(input(\"Enter number A: \"))\n",
    "B = int(input(\"Enter number B: \"))\n",
    "\n",
    "if A % B == 0:\n",
    "    count = A // B  \n",
    "    print(B, \"can divide\", A , \",\" , count, \" times.\")\n",
    "else:\n",
    "    print(B, \"can't divide\", A, \"purely.\")"
   ]
  },
  {
   "cell_type": "code",
   "execution_count": 23,
   "id": "69c1be9c-1334-4008-bd15-92b1add22ff8",
   "metadata": {},
   "outputs": [
    {
     "name": "stdout",
     "output_type": "stream",
     "text": [
      "element is not divisible by 3\n",
      "element is not divisible by 3\n",
      "element is divisible by 3\n",
      "element is not divisible by 3\n",
      "element is not divisible by 3\n",
      "element is divisible by 3\n",
      "element is not divisible by 3\n",
      "element is not divisible by 3\n",
      "element is divisible by 3\n",
      "element is not divisible by 3\n",
      "element is not divisible by 3\n",
      "element is divisible by 3\n",
      "element is not divisible by 3\n",
      "element is not divisible by 3\n",
      "element is divisible by 3\n",
      "element is not divisible by 3\n",
      "element is not divisible by 3\n",
      "element is divisible by 3\n",
      "element is not divisible by 3\n",
      "element is not divisible by 3\n",
      "element is divisible by 3\n",
      "element is not divisible by 3\n",
      "element is not divisible by 3\n",
      "element is divisible by 3\n",
      "element is not divisible by 3\n"
     ]
    }
   ],
   "source": [
    "List=[1,2,3,4,5,6,7,8,9,10,11,12,13,14,15,16,17,18,19,20,21,22,23,24,25]\n",
    "\n",
    "for i in List:\n",
    "    if i%3==0:\n",
    "        print(\"element is divisible by 3\")\n",
    "    else:\n",
    "        print(\"element is not divisible by 3\")"
   ]
  },
  {
   "cell_type": "markdown",
   "id": "3859d67a-05a8-4f86-90b7-ce1b7d05b027",
   "metadata": {},
   "source": [
    "Q7. What do you understand about mutable and immutable data types? Give examples for both showing\n",
    "this property."
   ]
  },
  {
   "cell_type": "markdown",
   "id": "2b83e960-c3cf-490c-98d8-7decb82545c0",
   "metadata": {},
   "source": [
    "Mutable: The data types which can be modified after their creation are mutable datatypes, means we can change their value."
   ]
  },
  {
   "cell_type": "markdown",
   "id": "30fcc9b5-1ad6-43e5-84ba-e1babde0ea79",
   "metadata": {},
   "source": [
    "1. List"
   ]
  },
  {
   "cell_type": "code",
   "execution_count": 31,
   "id": "f1a27212-4a55-4334-b036-3d7992eb6a7f",
   "metadata": {},
   "outputs": [
    {
     "name": "stdout",
     "output_type": "stream",
     "text": [
      "[1, 2, 3, 4, 5, 6]\n"
     ]
    }
   ],
   "source": [
    "List=[1,2,3,4,5]\n",
    "List.append(6)\n",
    "print(List)"
   ]
  },
  {
   "cell_type": "markdown",
   "id": "4d309680-674a-4733-a33a-be7c7611a2cb",
   "metadata": {},
   "source": [
    "2. Set"
   ]
  },
  {
   "cell_type": "code",
   "execution_count": 33,
   "id": "0651ab62-fe2e-4b8a-8195-d384b8a3321d",
   "metadata": {},
   "outputs": [
    {
     "name": "stdout",
     "output_type": "stream",
     "text": [
      "{1, 2, 3, 4, 5, 6}\n"
     ]
    }
   ],
   "source": [
    "Set={1,2,3,4,5}\n",
    "Set.add(6)\n",
    "print(Set)"
   ]
  },
  {
   "cell_type": "markdown",
   "id": "7af60877-b191-4794-b4a5-4d147955d9a1",
   "metadata": {},
   "source": [
    "Immutable: The data types which cannot be modified after their creation are immutable datatypes, means we cannot change their value."
   ]
  },
  {
   "cell_type": "markdown",
   "id": "5e751347-f191-4959-b835-eb8343730d24",
   "metadata": {},
   "source": [
    "1. Tuple"
   ]
  },
  {
   "cell_type": "code",
   "execution_count": 35,
   "id": "63ffa07a-f49d-4ba9-b8b1-f490ef25fc26",
   "metadata": {},
   "outputs": [],
   "source": [
    "Tuple=(1,2,3,4,5)"
   ]
  },
  {
   "cell_type": "markdown",
   "id": "7c20c9d9-7cbf-448f-9b1b-ccb564ff4bf4",
   "metadata": {},
   "source": [
    "2. Integers"
   ]
  },
  {
   "cell_type": "code",
   "execution_count": 36,
   "id": "8b6e280d-820c-4c17-829b-224aadbf3473",
   "metadata": {},
   "outputs": [],
   "source": [
    "Integer=10"
   ]
  }
 ],
 "metadata": {
  "kernelspec": {
   "display_name": "Python 3 (ipykernel)",
   "language": "python",
   "name": "python3"
  },
  "language_info": {
   "codemirror_mode": {
    "name": "ipython",
    "version": 3
   },
   "file_extension": ".py",
   "mimetype": "text/x-python",
   "name": "python",
   "nbconvert_exporter": "python",
   "pygments_lexer": "ipython3",
   "version": "3.10.8"
  }
 },
 "nbformat": 4,
 "nbformat_minor": 5
}
