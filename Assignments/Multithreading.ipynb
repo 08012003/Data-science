{
  "nbformat": 4,
  "nbformat_minor": 0,
  "metadata": {
    "colab": {
      "provenance": []
    },
    "kernelspec": {
      "name": "python3",
      "display_name": "Python 3"
    },
    "language_info": {
      "name": "python"
    }
  },
  "cells": [
    {
      "cell_type": "markdown",
      "source": [
        "Q1. What is multithreading in python? Why is it used? Name the module used to handle threads in python.\n",
        "\n",
        "\n",
        "Multithreading in Python\n",
        "Multithreading is a technique where multiple threads (smaller units of a process) run concurrently to perform tasks. Each thread runs independently but shares the same memory space, allowing for efficient execution of multiple tasks in parallel.\n",
        "\n",
        "Why is it used?\n",
        "\n",
        "* Concurrency: It helps in making the program more responsive, especially in I/O-bound tasks (e.g., file reading, network requests).\n",
        "* Resource Sharing: Threads share the same memory space, making it easier to share data between tasks.\n",
        "* Improved Performance: For I/O-bound applications, multithreading can lead to better performance by allowing tasks to run while waiting for other tasks (e.g., waiting for I/O operations).\n",
        "* Module used to handle threads in Python\n",
        "The threading module is used to create and manage threads in Python."
      ],
      "metadata": {
        "id": "GL-ZcPHlpf9V"
      }
    },
    {
      "cell_type": "markdown",
      "source": [
        "Q2. Why threading module used? Write the use of the following functions:\n",
        "1. activeCount()\n",
        "2. currentThread()\n",
        "3. enumerate()\n",
        "\n",
        "\n",
        "The threading module is used to create, manage, and synchronize threads in Python. It allows you to perform multiple operations concurrently within a single program, making it efficient for I/O-bound tasks like network operations or reading files.\n",
        "\n",
        "1. activeCount()\n",
        "This function returns the number of Thread objects currently alive (i.e., running). It gives the count of threads that are currently executing or waiting.\n",
        "\n",
        "2. currentThread()\n",
        "This function returns the current thread object, which represents the thread that is currently executing.\n",
        "\n",
        "3. enumerate()\n",
        "This function returns a list of all Thread objects currently alive. It is useful to get all threads that are running in the program.\n"
      ],
      "metadata": {
        "id": "IiCeNF6Pp6LH"
      }
    },
    {
      "cell_type": "markdown",
      "source": [
        "Q3. Explain the following functions\n",
        "1. run()\n",
        "2. start()\n",
        "3. join()\n",
        "4. isAlive()\n",
        "\n",
        "\n",
        "\n",
        "1. run(): The run() method defines the code that will be executed when the thread starts. It is called internally when you call the start() method.\n",
        "\n",
        "2. start(): The start() method begins the execution of a thread. It calls the run() method in a separate thread of control.\n",
        "\n",
        "3. join(): The join() method makes the calling thread wait until the thread on which it is called has finished execution. It is used for synchronization.\n",
        "\n",
        "4. isAlive(): The isAlive() method checks if the thread is still running. It returns True if the thread is alive and False otherwise."
      ],
      "metadata": {
        "id": "ecPRnqa4z2-a"
      }
    },
    {
      "cell_type": "markdown",
      "source": [
        "Q4. Write a python program to create two threads. Thread one must print the list of squares and thread\n",
        "two must print the list of cubes."
      ],
      "metadata": {
        "id": "1j7pr7dg0spm"
      }
    },
    {
      "cell_type": "code",
      "source": [
        "import threading\n",
        "\n",
        "def print_squares(numbers):\n",
        "    for num in numbers:\n",
        "        print(f\"Square of {num}: {num ** 2}\")\n",
        "\n",
        "def print_cubes(numbers):\n",
        "    for num in numbers:\n",
        "        print(f\"Cube of {num}: {num ** 3}\")\n",
        "\n",
        "numbers = [1, 2, 3, 4, 5]\n",
        "\n",
        "thread1 = threading.Thread(target=print_squares, args=(numbers,))\n",
        "thread2 = threading.Thread(target=print_cubes, args=(numbers,))\n",
        "\n",
        "thread1.start()\n",
        "thread2.start()\n",
        "\n",
        "thread1.join()\n",
        "thread2.join()"
      ],
      "metadata": {
        "colab": {
          "base_uri": "https://localhost:8080/"
        },
        "id": "-kbzTEkDzrst",
        "outputId": "57785f8e-15e8-4621-cb91-02da2b63ca7b"
      },
      "execution_count": 3,
      "outputs": [
        {
          "output_type": "stream",
          "name": "stdout",
          "text": [
            "Square of 1: 1\n",
            "Square of 2: 4\n",
            "Square of 3: 9\n",
            "Square of 4: 16\n",
            "Square of 5: 25\n",
            "Cube of 1: 1\n",
            "Cube of 2: 8\n",
            "Cube of 3: 27\n",
            "Cube of 4: 64\n",
            "Cube of 5: 125\n"
          ]
        }
      ]
    },
    {
      "cell_type": "markdown",
      "source": [
        "Q5. State advantages and disadvantages of multithreading.\n",
        "\n",
        "\n",
        "Advantages of Multithreading:\n",
        "1. Improved Performance: Helps perform multiple tasks simultaneously, especially for I/O-bound operations.\n",
        "2. Resource Sharing: Threads share the same memory space, reducing memory usage.\n",
        "3. Concurrency: Makes programs more responsive by handling tasks like I/O without blocking the main thread.\n",
        "4. Efficient CPU Utilization: Allows better use of CPU by running multiple threads when one thread is waiting.\n",
        "\n",
        "Disadvantages of Multithreading:\n",
        "1. Complex Debugging: Difficult to identify and fix issues like deadlocks and race conditions.\n",
        "2. Global Interpreter Lock (GIL): In CPython, the GIL limits true parallelism for CPU-bound tasks.\n",
        "3. Synchronization Overhead: Requires mechanisms like locks to manage shared resources, which can slow performance.\n",
        "4. Increased Complexity: Writing and maintaining multithreaded code is more challenging than single-threaded code.\n"
      ],
      "metadata": {
        "id": "ZtMKe6XM1TtA"
      }
    },
    {
      "cell_type": "markdown",
      "source": [
        "Q6. Explain deadlocks and race conditions.\n",
        "\n",
        "\n",
        "Deadlocks:\n",
        "A deadlock occurs when two or more threads are waiting for each other to release resources, causing them to be stuck indefinitely. For example, if Thread 1 locks Resource A and waits for Resource B, while Thread 2 locks Resource B and waits for Resource A, neither thread can proceed, resulting in a deadlock.\n",
        "\n",
        "Race Conditions:\n",
        "A race condition happens when two or more threads access shared data simultaneously, and the outcome depends on the order of execution. This can lead to unpredictable behavior and incorrect results, especially when threads modify the data without proper synchronization."
      ],
      "metadata": {
        "id": "Y5kz-HZd1ild"
      }
    }
  ]
}