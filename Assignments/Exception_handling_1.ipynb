{
  "nbformat": 4,
  "nbformat_minor": 0,
  "metadata": {
    "colab": {
      "provenance": []
    },
    "kernelspec": {
      "name": "python3",
      "display_name": "Python 3"
    },
    "language_info": {
      "name": "python"
    }
  },
  "cells": [
    {
      "cell_type": "markdown",
      "source": [
        "Q1. What is an Exception in python? Write the difference between Exceptions and Syntax errors.\n",
        "\n",
        "An exception in Python is an error that occurs during the execution of a program, which disrupts the normal flow unless handled. Exceptions happen at runtime, such as dividing by zero or accessing a file that does not exist. On the other hand, syntax errors occur before the program runs and are caused by incorrect code structure, such as missing colons or parentheses."
      ],
      "metadata": {
        "id": "D1L_4LtWd6e8"
      }
    },
    {
      "cell_type": "markdown",
      "source": [
        "Q2. What happens when an exception is not handled? Explain with an example.\n",
        "\n",
        "\n",
        "When an exception is not handled, the program stops immediately, and Python displays an error message called a traceback. This shows the type of error and where it happened in the code."
      ],
      "metadata": {
        "id": "epBAvCd8eOyt"
      }
    },
    {
      "cell_type": "code",
      "source": [
        "x = 5 / 0\n",
        "print(x)\n"
      ],
      "metadata": {
        "colab": {
          "base_uri": "https://localhost:8080/",
          "height": 158
        },
        "id": "rLX2W-o-eT1a",
        "outputId": "0706c5e0-86a9-45b8-e0ae-e85df3b2d000"
      },
      "execution_count": 3,
      "outputs": [
        {
          "output_type": "error",
          "ename": "ZeroDivisionError",
          "evalue": "division by zero",
          "traceback": [
            "\u001b[0;31m---------------------------------------------------------------------------\u001b[0m",
            "\u001b[0;31mZeroDivisionError\u001b[0m                         Traceback (most recent call last)",
            "\u001b[0;32m<ipython-input-3-34e7a18c5b89>\u001b[0m in \u001b[0;36m<cell line: 1>\u001b[0;34m()\u001b[0m\n\u001b[0;32m----> 1\u001b[0;31m \u001b[0mx\u001b[0m \u001b[0;34m=\u001b[0m \u001b[0;36m5\u001b[0m \u001b[0;34m/\u001b[0m \u001b[0;36m0\u001b[0m\u001b[0;34m\u001b[0m\u001b[0;34m\u001b[0m\u001b[0m\n\u001b[0m\u001b[1;32m      2\u001b[0m \u001b[0mprint\u001b[0m\u001b[0;34m(\u001b[0m\u001b[0mx\u001b[0m\u001b[0;34m)\u001b[0m\u001b[0;34m\u001b[0m\u001b[0;34m\u001b[0m\u001b[0m\n",
            "\u001b[0;31mZeroDivisionError\u001b[0m: division by zero"
          ]
        }
      ]
    },
    {
      "cell_type": "markdown",
      "source": [
        "Q3. Which Python statements are used to catch and handle exceptions? Explain with an example.\n",
        "\n",
        "Python uses the try and except statements to catch and handle exceptions. Code that may raise an exception is written in the try block, and the error is handled in the except block."
      ],
      "metadata": {
        "id": "I0I2Xg_0ekqw"
      }
    },
    {
      "cell_type": "code",
      "source": [
        "try:\n",
        "    x = 5 / 0\n",
        "except ZeroDivisionError:\n",
        "    print(\"Cannot divide by zero!\")"
      ],
      "metadata": {
        "colab": {
          "base_uri": "https://localhost:8080/"
        },
        "id": "cwe3O-jreuRs",
        "outputId": "9354d510-0a8b-4e5e-9886-344d583d4fc0"
      },
      "execution_count": 4,
      "outputs": [
        {
          "output_type": "stream",
          "name": "stdout",
          "text": [
            "Cannot divide by zero!\n"
          ]
        }
      ]
    },
    {
      "cell_type": "code",
      "source": [],
      "metadata": {
        "id": "Vbc5QQRkexZp"
      },
      "execution_count": null,
      "outputs": []
    },
    {
      "cell_type": "markdown",
      "source": [
        "Q4. Explain with an example:#\n",
        " 1. try and else\n",
        " 2. finall\n",
        " 3. raise"
      ],
      "metadata": {
        "id": "qfdiMdrje5Ij"
      }
    },
    {
      "cell_type": "markdown",
      "source": [
        "1. try and else:\n",
        "The try block contains code that might raise an exception. If no exception occurs, the else block is executed."
      ],
      "metadata": {
        "id": "OIveTR-FfD_k"
      }
    },
    {
      "cell_type": "code",
      "source": [
        "try:\n",
        "  a = 5/2\n",
        "except ZeroDivisionError:\n",
        "  print(\"Error: Cannot divide by zero\")\n",
        "else:\n",
        "  print(\"Division successful: \",a)"
      ],
      "metadata": {
        "colab": {
          "base_uri": "https://localhost:8080/"
        },
        "id": "I4qccnDCfL_h",
        "outputId": "da886a57-b90d-453b-b59c-19409aee2730"
      },
      "execution_count": 7,
      "outputs": [
        {
          "output_type": "stream",
          "name": "stdout",
          "text": [
            "Division successful:  2.5\n"
          ]
        }
      ]
    },
    {
      "cell_type": "markdown",
      "source": [
        "2. finally:\n",
        "The finally block contains code that runs no matter what, whether an exception occurs or not."
      ],
      "metadata": {
        "id": "lnth2lI9frgu"
      }
    },
    {
      "cell_type": "code",
      "source": [
        "try:\n",
        "  b = 4/0\n",
        "except ZeroDivisionError:\n",
        "  print(\"Error: Cannot divide by zero\")\n",
        "finally:\n",
        "  print(\"This will always run!\")"
      ],
      "metadata": {
        "colab": {
          "base_uri": "https://localhost:8080/"
        },
        "id": "OweJxa2nfr7c",
        "outputId": "f2fcb676-16c1-4bfd-b44e-c949e228cb02"
      },
      "execution_count": 8,
      "outputs": [
        {
          "output_type": "stream",
          "name": "stdout",
          "text": [
            "Error: Cannot divide by zero\n",
            "This will always run!\n"
          ]
        }
      ]
    },
    {
      "cell_type": "markdown",
      "source": [
        "3. raise:\n",
        "The raise statement is used to manually raise an exception in Python."
      ],
      "metadata": {
        "id": "Ca1W53C9gLhV"
      }
    },
    {
      "cell_type": "code",
      "source": [
        "n= -2\n",
        "if n < 0:\n",
        "  raise ValueError(\"Negative num not allowed!\")"
      ],
      "metadata": {
        "colab": {
          "base_uri": "https://localhost:8080/",
          "height": 176
        },
        "id": "rnjFtvXNgNJH",
        "outputId": "4b045ead-7292-4671-a584-f5b4fa30643c"
      },
      "execution_count": 9,
      "outputs": [
        {
          "output_type": "error",
          "ename": "ValueError",
          "evalue": "Negative num not allowed!",
          "traceback": [
            "\u001b[0;31m---------------------------------------------------------------------------\u001b[0m",
            "\u001b[0;31mValueError\u001b[0m                                Traceback (most recent call last)",
            "\u001b[0;32m<ipython-input-9-6ac9e6a8b807>\u001b[0m in \u001b[0;36m<cell line: 2>\u001b[0;34m()\u001b[0m\n\u001b[1;32m      1\u001b[0m \u001b[0mn\u001b[0m\u001b[0;34m=\u001b[0m \u001b[0;34m-\u001b[0m\u001b[0;36m2\u001b[0m\u001b[0;34m\u001b[0m\u001b[0;34m\u001b[0m\u001b[0m\n\u001b[1;32m      2\u001b[0m \u001b[0;32mif\u001b[0m \u001b[0mn\u001b[0m \u001b[0;34m<\u001b[0m \u001b[0;36m0\u001b[0m\u001b[0;34m:\u001b[0m\u001b[0;34m\u001b[0m\u001b[0;34m\u001b[0m\u001b[0m\n\u001b[0;32m----> 3\u001b[0;31m   \u001b[0;32mraise\u001b[0m \u001b[0mValueError\u001b[0m\u001b[0;34m(\u001b[0m\u001b[0;34m\"Negative num not allowed!\"\u001b[0m\u001b[0;34m)\u001b[0m\u001b[0;34m\u001b[0m\u001b[0;34m\u001b[0m\u001b[0m\n\u001b[0m",
            "\u001b[0;31mValueError\u001b[0m: Negative num not allowed!"
          ]
        }
      ]
    },
    {
      "cell_type": "code",
      "source": [],
      "metadata": {
        "id": "Lxylonctgc47"
      },
      "execution_count": null,
      "outputs": []
    },
    {
      "cell_type": "markdown",
      "source": [
        "Q5. What are Custom Exceptions in python? Why do we need Custom Exceptions? Explain with an example.\n",
        "\n",
        "\n",
        "Custom exceptions in Python are user-defined exceptions created by inheriting the Exception class. They allow developers to define specific error types to make code more understandable and handle special cases.\n",
        "\n",
        "We need custom exceptions to handle unique errors in a program that are not covered by built-in exceptions. This improves code clarity and debugging."
      ],
      "metadata": {
        "id": "he8u2MGfgmeK"
      }
    },
    {
      "cell_type": "code",
      "source": [
        "class MyError(Exception):\n",
        "    pass\n",
        "\n",
        "try:\n",
        "    raise MyError(\"This is a custom error!\")\n",
        "except MyError as e:\n",
        "    print(e)"
      ],
      "metadata": {
        "colab": {
          "base_uri": "https://localhost:8080/"
        },
        "id": "22npHuHHgtvu",
        "outputId": "56f087e2-b5c9-4624-c535-e7ac27cd2b76"
      },
      "execution_count": 10,
      "outputs": [
        {
          "output_type": "stream",
          "name": "stdout",
          "text": [
            "This is a custom error!\n"
          ]
        }
      ]
    },
    {
      "cell_type": "markdown",
      "source": [
        "Q6. Create a custom exception class. Use this class to handle an exception.\n",
        "\n"
      ],
      "metadata": {
        "id": "3ds8dpRphgjd"
      }
    },
    {
      "cell_type": "code",
      "source": [
        "class custom_exception(Exception):\n",
        "  pass\n",
        "\n",
        "def eligibility_of_vote(age):\n",
        "  if age < 18:\n",
        "    raise custom_exception(\"You are not eligible to vote!\")\n",
        "  return \"You are eligible to vote!\"\n",
        "\n",
        "try:\n",
        "  print(eligibility_of_vote(21))\n",
        "except custom_exception as c:\n",
        "  print(c)"
      ],
      "metadata": {
        "colab": {
          "base_uri": "https://localhost:8080/"
        },
        "id": "bRI46i_bjFa8",
        "outputId": "666a97ec-dc4d-4488-bea3-b7ce96268a90"
      },
      "execution_count": 11,
      "outputs": [
        {
          "output_type": "stream",
          "name": "stdout",
          "text": [
            "You are eligible to vote!\n"
          ]
        }
      ]
    },
    {
      "cell_type": "code",
      "source": [],
      "metadata": {
        "id": "iwhHO42Aj5CL"
      },
      "execution_count": null,
      "outputs": []
    }
  ]
}