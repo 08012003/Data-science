{
  "nbformat": 4,
  "nbformat_minor": 0,
  "metadata": {
    "colab": {
      "provenance": []
    },
    "kernelspec": {
      "name": "python3",
      "display_name": "Python 3"
    },
    "language_info": {
      "name": "python"
    }
  },
  "cells": [
    {
      "cell_type": "markdown",
      "source": [
        "Q1. What is multiprocessing in python? Why is it useful?\n",
        "\n",
        "\n",
        "Multiprocessing is a module in Python that allows the creation and management of multiple processes. Unlike multithreading, it creates separate memory spaces for each process, enabling true parallel execution.\n",
        "\n",
        "Why is it useful?\n",
        "\n",
        "* True Parallelism: It can utilize multiple CPU cores, overcoming Python's Global Interpreter Lock (GIL).\n",
        "* Efficient for CPU-Bound Tasks: Ideal for tasks that require heavy computation, like mathematical calculations or data processing.\n",
        "* Improved Performance: By distributing the workload across multiple processes, it reduces execution time for intensive tasks."
      ],
      "metadata": {
        "id": "Pv2lEPvI2Oda"
      }
    },
    {
      "cell_type": "markdown",
      "source": [
        "Q2. What are the differences between multiprocessing and multithreading?\n",
        "\n",
        "\n",
        "| Feature            | Multiprocessing                                      | Multithreading                                    |\n",
        "|--------------------|-----------------------------------------------------|-------------------------------------------------|\n",
        "| **Execution Model**| Creates multiple processes, each with its own memory space, allowing true parallel execution. | Creates multiple threads within the same process, sharing the same memory space. Limited by the GIL in CPython. |\n",
        "| **Use Case**       | Best for CPU-bound tasks like computations.          | Best for I/O-bound tasks like file or network operations. |\n",
        "| **Resource Usage** | Uses more system resources due to separate memory allocation for each process. | Uses fewer resources because threads share memory within the same process. |\n",
        "| **Performance**    | Achieves better performance for CPU-bound tasks as it avoids GIL limitations. | May not improve performance for CPU-bound tasks due to GIL. |\n",
        "| **Communication**  | Requires inter-process communication mechanisms like queues or pipes. | Threads communicate easily by sharing variables within the same memory space. |\n"
      ],
      "metadata": {
        "id": "lBkKQ1LY2b2J"
      }
    },
    {
      "cell_type": "markdown",
      "source": [
        "Q3. Write a python code to create a process using the multiprocessing module."
      ],
      "metadata": {
        "id": "3jjQSLYi3Rnn"
      }
    },
    {
      "cell_type": "code",
      "source": [
        "import multiprocessing\n",
        "\n",
        "def print_square(number):\n",
        "    print(f\"Square of {number}: {number * number}\")\n",
        "\n",
        "if __name__ == '__main__':\n",
        "    process = multiprocessing.Process(target=print_square, args=(5,))\n",
        "    process.start()\n",
        "    process.join()"
      ],
      "metadata": {
        "colab": {
          "base_uri": "https://localhost:8080/"
        },
        "id": "7KoXGRZP2YKI",
        "outputId": "e2587c2d-50a3-44ef-f0b9-fdcaf32bc8d8"
      },
      "execution_count": 1,
      "outputs": [
        {
          "output_type": "stream",
          "name": "stdout",
          "text": [
            "Square of 5: 25\n"
          ]
        }
      ]
    },
    {
      "cell_type": "markdown",
      "source": [
        "Q4. What is a multiprocessing pool in python? Why is it used?\n",
        "\n",
        "A multiprocessing pool is a collection of worker processes that can be used to execute tasks concurrently in parallel. It allows you to manage a pool of processes to execute functions on multiple input data.\n",
        "\n",
        "Why is it used?\n",
        "\n",
        "* Parallelism: It helps in parallel processing by distributing tasks across multiple processes, improving performance for CPU-bound tasks.\n",
        "* Efficient Resource Management: It creates a pool of processes, reusing them instead of creating new processes for each task, which reduces overhead.\n",
        "* Simplifies Code: It provides an easy way to parallelize the execution of a function on multiple inputs using methods like map(), apply(), etc."
      ],
      "metadata": {
        "id": "E0M8xVVS3_55"
      }
    },
    {
      "cell_type": "markdown",
      "source": [
        "Q5. How can we create a pool of worker processes in python using the multiprocessing module?\n",
        "\n",
        "To create a pool of worker processes in Python using the multiprocessing module, you can use the Pool class."
      ],
      "metadata": {
        "id": "3PnDH6y55JYg"
      }
    },
    {
      "cell_type": "code",
      "source": [
        "import multiprocessing\n",
        "\n",
        "def square(number):\n",
        "    return number * number\n",
        "\n",
        "if __name__ == '__main__':\n",
        "    with multiprocessing.Pool(processes=4) as pool:\n",
        "        result = pool.map(square, [1, 2, 3, 4, 5])\n",
        "    print(result)"
      ],
      "metadata": {
        "colab": {
          "base_uri": "https://localhost:8080/"
        },
        "id": "rQeo4Cf03Yoz",
        "outputId": "ade4d473-b29e-405d-d261-ae6264914caf"
      },
      "execution_count": 2,
      "outputs": [
        {
          "output_type": "stream",
          "name": "stdout",
          "text": [
            "[1, 4, 9, 16, 25]\n"
          ]
        }
      ]
    },
    {
      "cell_type": "markdown",
      "source": [
        "Q6. Write a python program to create 4 processes, each process should print a different number using the\n",
        "multiprocessing module in python."
      ],
      "metadata": {
        "id": "fSAgNv7_5nrL"
      }
    },
    {
      "cell_type": "code",
      "source": [
        "import multiprocessing\n",
        "\n",
        "def print_number(number):\n",
        "    print(f\"Number: {number}\")\n",
        "\n",
        "if __name__ == '__main__':\n",
        "    process1 = multiprocessing.Process(target=print_number, args=(1,))\n",
        "    process2 = multiprocessing.Process(target=print_number, args=(2,))\n",
        "    process3 = multiprocessing.Process(target=print_number, args=(3,))\n",
        "    process4 = multiprocessing.Process(target=print_number, args=(4,))\n",
        "\n",
        "    process1.start()\n",
        "    process1.join()\n",
        "    process2.start()\n",
        "    process2.join()\n",
        "    process3.start()\n",
        "    process3.join()\n",
        "    process4.start()\n",
        "    process4.join()\n"
      ],
      "metadata": {
        "colab": {
          "base_uri": "https://localhost:8080/"
        },
        "id": "p5CXBpTE5qq4",
        "outputId": "63d17f34-3b51-482b-fa3c-141b0d947859"
      },
      "execution_count": 6,
      "outputs": [
        {
          "output_type": "stream",
          "name": "stdout",
          "text": [
            "Number: 1\n",
            "Number: 2\n",
            "Number: 3\n",
            "Number: 4\n"
          ]
        }
      ]
    }
  ]
}