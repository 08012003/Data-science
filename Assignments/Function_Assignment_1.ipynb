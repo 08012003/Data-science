{
  "nbformat": 4,
  "nbformat_minor": 0,
  "metadata": {
    "colab": {
      "provenance": []
    },
    "kernelspec": {
      "name": "python3",
      "display_name": "Python 3"
    },
    "language_info": {
      "name": "python"
    }
  },
  "cells": [
    {
      "cell_type": "markdown",
      "source": [
        "Q1. Which keyword is used to create a function? Create a function to return a list of odd numbers in the\n",
        "range of 1 to 25."
      ],
      "metadata": {
        "id": "f_ztFNNewxba"
      }
    },
    {
      "cell_type": "markdown",
      "source": [
        "The keyword used to create a function is def."
      ],
      "metadata": {
        "id": "Z25knbwXwf_o"
      }
    },
    {
      "cell_type": "code",
      "source": [
        "def get_odd_numbers():\n",
        "    odd_numbers = []\n",
        "    for number in range(1, 26):\n",
        "        if number % 2 != 0:\n",
        "            odd_numbers.append(number)\n",
        "    return odd_numbers\n",
        "\n",
        "# Call the function and print the result\n",
        "print(get_odd_numbers())"
      ],
      "metadata": {
        "colab": {
          "base_uri": "https://localhost:8080/"
        },
        "id": "EwPVDtCdw7QC",
        "outputId": "b47d7bdc-9f74-4ae9-d0c8-d7faca2c3b75"
      },
      "execution_count": null,
      "outputs": [
        {
          "output_type": "stream",
          "name": "stdout",
          "text": [
            "[1, 3, 5, 7, 9, 11, 13, 15, 17, 19, 21, 23, 25]\n"
          ]
        }
      ]
    },
    {
      "cell_type": "markdown",
      "source": [
        "Q2. Why *args and **kwargs is used in some functions? Create a function each for *args and **kwargs to demonstrate their use"
      ],
      "metadata": {
        "id": "Tt7hNCPpG0U3"
      }
    },
    {
      "cell_type": "markdown",
      "source": [
        " **args and **kwargs are used to allow a function to accept an arbitrary number of arguments.\n",
        "\n",
        "1. *args is used to pass a variable number of non-keyword arguments to a function.\n",
        "2. **kwargs is used to pass a variable number of keyword arguments to a function."
      ],
      "metadata": {
        "id": "Ja5yk0-9yOqy"
      }
    },
    {
      "cell_type": "code",
      "source": [
        "#Example for *args\n",
        "\n",
        "def sum_all(*args):\n",
        "    total = 0\n",
        "    for number in args:\n",
        "        total += number\n",
        "    return total\n",
        "\n",
        "# Call the function with different numbers of arguments\n",
        "print(sum_all(1, 2, 3))\n",
        "print(sum_all(4, 5, 6, 7, 8))"
      ],
      "metadata": {
        "colab": {
          "base_uri": "https://localhost:8080/"
        },
        "id": "QsoBZ2XnyRrI",
        "outputId": "3ec80736-7987-43d6-cc31-80477ea5d434"
      },
      "execution_count": null,
      "outputs": [
        {
          "output_type": "stream",
          "name": "stdout",
          "text": [
            "6\n",
            "30\n"
          ]
        }
      ]
    },
    {
      "cell_type": "code",
      "source": [
        "#Example for **kwargs\n",
        "\n",
        "def print_kwargs(**kwargs):\n",
        "    for key, value in kwargs.items():\n",
        "        print(f\"{key}: {value}\")\n",
        "\n",
        "# Call the function with different keyword arguments\n",
        "print_kwargs(name=\"Alice\", age=30, city=\"New York\")"
      ],
      "metadata": {
        "id": "NCJiOlCOya30",
        "outputId": "7d299c33-4b4c-4b7a-f42d-8c9ddd9c889a",
        "colab": {
          "base_uri": "https://localhost:8080/"
        }
      },
      "execution_count": 18,
      "outputs": [
        {
          "output_type": "stream",
          "name": "stdout",
          "text": [
            "name: Alice\n",
            "age: 30\n",
            "city: New York\n"
          ]
        }
      ]
    },
    {
      "cell_type": "markdown",
      "source": [
        "Q3. What is an iterator in python? Name the method used to initialise the iterator object and the method\n",
        "used for iteration. Use these methods to print the first five elements of the given list [2, 4, 6, 8, 10, 12, 14,\n",
        "16, 18, 20]."
      ],
      "metadata": {
        "id": "YbNkw5F2RNVt"
      }
    },
    {
      "cell_type": "markdown",
      "source": [
        "An iterator in Python is an object that allows you to traverse through all the elements of a collection (like a list or tuple), one element at a time. Iterators are implemented using two methods:\n",
        "\n",
        "1. __iter__(): This method initializes the iterator object and returns itself.\n",
        "2. __next__(): This method returns the next item from the collection. If there are no more items to return, it raises a StopIteration exception.\n",
        "\n",
        "Detailed Steps\n",
        "1. The list numbers is defined with elements [2, 4, 6, 8, 10, 12, 14, 16, 18, 20].\n",
        "2. The iter(numbers) function initializes an iterator for the list.\n",
        "3. The for loop runs five times, each time calling next(iterator) to retrieve and print the next element from the iterator.\n",
        "\n"
      ],
      "metadata": {
        "id": "HcPxbcbgRnYc"
      }
    },
    {
      "cell_type": "code",
      "source": [
        "# Define the list\n",
        "numbers = [2, 4, 6, 8, 10, 12, 14, 16, 18, 20]\n",
        "\n",
        "# Get an iterator object using the iter() function\n",
        "iterator = iter(numbers)\n",
        "\n",
        "# Print the first five elements using the next() function\n",
        "for _ in range(5):\n",
        "    print(next(iterator))"
      ],
      "metadata": {
        "colab": {
          "base_uri": "https://localhost:8080/"
        },
        "id": "vZuWN9h1Rp7u",
        "outputId": "6be7c27d-fe9e-426e-b555-99e1274dfd01"
      },
      "execution_count": 16,
      "outputs": [
        {
          "output_type": "stream",
          "name": "stdout",
          "text": [
            "2\n",
            "4\n",
            "6\n",
            "8\n",
            "10\n"
          ]
        }
      ]
    },
    {
      "cell_type": "markdown",
      "source": [
        "Q4. What is a generator function in python? Why yield keyword is used? Give an example of a generator function."
      ],
      "metadata": {
        "id": "7ZN6-FbSShFn"
      }
    },
    {
      "cell_type": "markdown",
      "source": [
        "A generator function in Python is a special type of function that returns an iterator, which we can iterate over (one value at a time). Generators are written like regular functions but use the yield statement instead of return to produce a series of values. When a generator function is called, it doesn't return a single value; instead, it returns a generator object that can produce a sequence of values.\n",
        "\n",
        "The yield keyword is used in generator functions to produce a value and pause the function’s execution, allowing it to be resumed later from the same point. This allows the generator to produce a sequence of values over time, rather than computing them all at once and sending them back like a regular function."
      ],
      "metadata": {
        "id": "MC2hx54vwLx2"
      }
    },
    {
      "cell_type": "code",
      "source": [
        "def even_numbers(n):\n",
        "    num = 0\n",
        "    while n > 1:\n",
        "        yield num\n",
        "        num += 2\n",
        "        n -= 1\n",
        "\n",
        "# Using the generator function\n",
        "gen = even_numbers(5)  # Create a generator object\n",
        "\n",
        "# Iterating through the generator to print the first 5 even numbers\n",
        "for even in gen:\n",
        "    print(even)"
      ],
      "metadata": {
        "colab": {
          "base_uri": "https://localhost:8080/"
        },
        "id": "xyMVH4cFwMn_",
        "outputId": "6f666363-d87f-4178-906f-b307de5aa83f"
      },
      "execution_count": 13,
      "outputs": [
        {
          "output_type": "stream",
          "name": "stdout",
          "text": [
            "0\n",
            "2\n",
            "4\n",
            "6\n"
          ]
        }
      ]
    },
    {
      "cell_type": "markdown",
      "source": [
        "Q5. Create a generator function for prime numbers less than 1000. Use the next() method to print the first 20 prime numbers."
      ],
      "metadata": {
        "id": "Gjr9EDgNBl5v"
      }
    },
    {
      "cell_type": "code",
      "source": [
        "def prime_numbers():\n",
        "    primes = []\n",
        "    num = 2\n",
        "    while num < 1000:\n",
        "        is_prime = True\n",
        "        for prime in primes:\n",
        "            if num % prime == 0:\n",
        "                is_prime = False\n",
        "                break\n",
        "        if is_prime:\n",
        "            primes.append(num)\n",
        "            yield num\n",
        "        num += 1\n",
        "\n",
        "# Create a generator object\n",
        "prime_gen = prime_numbers()\n",
        "\n",
        "# Print the first 20 prime numbers using the next() method\n",
        "for _ in range(20):\n",
        "    print(next(prime_gen))\n"
      ],
      "metadata": {
        "colab": {
          "base_uri": "https://localhost:8080/"
        },
        "id": "dUkZncPGwQRR",
        "outputId": "7d84e628-065a-4a1c-cfbc-0b7cc65ded6b"
      },
      "execution_count": 17,
      "outputs": [
        {
          "output_type": "stream",
          "name": "stdout",
          "text": [
            "2\n",
            "3\n",
            "5\n",
            "7\n",
            "11\n",
            "13\n",
            "17\n",
            "19\n",
            "23\n",
            "29\n",
            "31\n",
            "37\n",
            "41\n",
            "43\n",
            "47\n",
            "53\n",
            "59\n",
            "61\n",
            "67\n",
            "71\n"
          ]
        }
      ]
    },
    {
      "cell_type": "markdown",
      "source": [
        "Q6. Write a python program to print the first 10 Fibonacci numbers using a while loop."
      ],
      "metadata": {
        "id": "5HRum3O9ERBe"
      }
    },
    {
      "cell_type": "code",
      "source": [
        "# Initialize the first two Fibonacci numbers\n",
        "a, b = 0, 1\n",
        "\n",
        "# Counter to keep track of how many Fibonacci numbers have been printed\n",
        "count = 0\n",
        "\n",
        "# Print the first 10 Fibonacci numbers\n",
        "while count < 10:\n",
        "    print(a)\n",
        "    # Update the values of a and b\n",
        "    a, b = b, a + b\n",
        "    # Increment the counter\n",
        "    count += 1"
      ],
      "metadata": {
        "colab": {
          "base_uri": "https://localhost:8080/"
        },
        "id": "7fOWb-NTERgI",
        "outputId": "53c5f418-7675-4d9e-ef53-136eb47e7afc"
      },
      "execution_count": 18,
      "outputs": [
        {
          "output_type": "stream",
          "name": "stdout",
          "text": [
            "0\n",
            "1\n",
            "1\n",
            "2\n",
            "3\n",
            "5\n",
            "8\n",
            "13\n",
            "21\n",
            "34\n"
          ]
        }
      ]
    },
    {
      "cell_type": "markdown",
      "source": [
        "Q7. Write a List Comprehension to iterate through the given string: ‘pwskills’.\n",
        "Expected output: ['p', 'w', 's', 'k', 'i', 'l', 'l', 's']"
      ],
      "metadata": {
        "id": "K5DI31hTHE3s"
      }
    },
    {
      "cell_type": "code",
      "source": [
        "# Given string\n",
        "string = 'pwskills'\n",
        "\n",
        "# List comprehension to iterate through the string\n",
        "result = [char for char in string]\n",
        "\n",
        "# Print the result\n",
        "print(result)\n"
      ],
      "metadata": {
        "colab": {
          "base_uri": "https://localhost:8080/"
        },
        "id": "kRD0kFMZHFmh",
        "outputId": "bb642b21-f754-430b-8df7-aa91d3a42a67"
      },
      "execution_count": 22,
      "outputs": [
        {
          "output_type": "stream",
          "name": "stdout",
          "text": [
            "['p', 'w', 's', 'k', 'i', 'l', 'l', 's']\n"
          ]
        }
      ]
    },
    {
      "cell_type": "markdown",
      "source": [
        "Q8. Write a python program to check whether a given number is Palindrome or not using a while loop."
      ],
      "metadata": {
        "id": "7pg4bH2XHzz0"
      }
    },
    {
      "cell_type": "code",
      "source": [
        "# Function to check if a number is a palindrome\n",
        "def is_palindrome(number):\n",
        "    # Store the original number\n",
        "    original_number = number\n",
        "    # Initialize the reversed number\n",
        "    reversed_number = 0\n",
        "\n",
        "    # Reverse the number using a while loop\n",
        "    while number > 0:\n",
        "        # Get the last digit of the number\n",
        "        digit = number % 10\n",
        "        # Append the digit to the reversed number\n",
        "        reversed_number = reversed_number * 10 + digit\n",
        "        # Remove the last digit from the number\n",
        "        number = number // 10\n",
        "\n",
        "    # Check if the original number is equal to the reversed number\n",
        "    return original_number == reversed_number\n",
        "\n",
        "# Input: Given number\n",
        "number = int(input(\"Enter a number to check if it is a palindrome: \"))\n",
        "\n",
        "# Check if the number is a palindrome and print the result\n",
        "if is_palindrome(number):\n",
        "    print(f\"{number} is a palindrome.\")\n",
        "else:\n",
        "    print(f\"{number} is not a palindrome.\")"
      ],
      "metadata": {
        "colab": {
          "base_uri": "https://localhost:8080/"
        },
        "id": "J_m16F8kH0US",
        "outputId": "279a6c4e-b1ce-4ad4-a5d4-7d331937f755"
      },
      "execution_count": 24,
      "outputs": [
        {
          "output_type": "stream",
          "name": "stdout",
          "text": [
            "Enter a number to check if it is a palindrome: 121\n",
            "121 is a palindrome.\n"
          ]
        }
      ]
    },
    {
      "cell_type": "markdown",
      "source": [
        "Q9. Write a code to print odd numbers from 1 to 100 using list comprehension.\n",
        "Note: Use a list comprehension to create a list from 1 to 100 and use another List comprehension to filter\n",
        "out odd numbers."
      ],
      "metadata": {
        "id": "UVvETajgLNm7"
      }
    },
    {
      "cell_type": "code",
      "source": [
        "# Initialize an empty list to store odd numbers\n",
        "odd_numbers = []\n",
        "\n",
        "# Loop through numbers from 1 to 100\n",
        "for num in range(1, 101):\n",
        "    # Check if the number is odd\n",
        "    if num % 2 != 0:\n",
        "        # Append the odd number to the list\n",
        "        odd_numbers.append(num)\n",
        "\n",
        "# Print the list of odd numbers\n",
        "print(odd_numbers)"
      ],
      "metadata": {
        "colab": {
          "base_uri": "https://localhost:8080/"
        },
        "id": "E-9WkJSELH9e",
        "outputId": "49e617d1-486c-4017-8203-b0237048fd47"
      },
      "execution_count": 29,
      "outputs": [
        {
          "output_type": "stream",
          "name": "stdout",
          "text": [
            "[1, 3, 5, 7, 9, 11, 13, 15, 17, 19, 21, 23, 25, 27, 29, 31, 33, 35, 37, 39, 41, 43, 45, 47, 49, 51, 53, 55, 57, 59, 61, 63, 65, 67, 69, 71, 73, 75, 77, 79, 81, 83, 85, 87, 89, 91, 93, 95, 97, 99]\n"
          ]
        }
      ]
    },
    {
      "cell_type": "code",
      "source": [
        "# List comprehension to generate odd numbers from 1 to 100\n",
        "odd_numbers = [num for num in range(1, 101) if num % 2 != 0]\n",
        "\n",
        "# Print the list of odd numbers\n",
        "print(odd_numbers)"
      ],
      "metadata": {
        "colab": {
          "base_uri": "https://localhost:8080/"
        },
        "id": "WFjNpEEVL0Bq",
        "outputId": "e7c6236b-f075-4090-a625-dbe91942f4b9"
      },
      "execution_count": 30,
      "outputs": [
        {
          "output_type": "stream",
          "name": "stdout",
          "text": [
            "[1, 3, 5, 7, 9, 11, 13, 15, 17, 19, 21, 23, 25, 27, 29, 31, 33, 35, 37, 39, 41, 43, 45, 47, 49, 51, 53, 55, 57, 59, 61, 63, 65, 67, 69, 71, 73, 75, 77, 79, 81, 83, 85, 87, 89, 91, 93, 95, 97, 99]\n"
          ]
        }
      ]
    },
    {
      "cell_type": "code",
      "source": [],
      "metadata": {
        "id": "EwGeLTScL141"
      },
      "execution_count": null,
      "outputs": []
    }
  ]
}
