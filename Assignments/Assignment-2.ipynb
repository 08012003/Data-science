{
 "cells": [
  {
   "cell_type": "markdown",
   "id": "7811b71c-561c-4d1d-8f44-5300d628596a",
   "metadata": {},
   "source": [
    "Q1. How do you comment code in Python? What are the different types of comments?"
   ]
  },
  {
   "cell_type": "raw",
   "id": "585fd3ed-df1d-4a70-90df-6f04af1e8d1d",
   "metadata": {},
   "source": [
    "in python there are two types for commenting any block or statements like single line comment and multi line comment\n",
    "1. single line comment\n",
    "for single line comment we use '#'. below i have give a example for single line comment."
   ]
  },
  {
   "cell_type": "code",
   "execution_count": 1,
   "id": "a6adcb09-3575-496b-a0ee-19e59d7c40e1",
   "metadata": {},
   "outputs": [],
   "source": [
    "#this is single line comment"
   ]
  },
  {
   "cell_type": "raw",
   "id": "1125476f-608f-4b9f-96b6-e4723c8a1eb9",
   "metadata": {},
   "source": [
    "2. multi line comment\n",
    "for for multi line comment we use ''' in starting and ending of statements. below i have give a example for multi line comment."
   ]
  },
  {
   "cell_type": "code",
   "execution_count": 2,
   "id": "590257c7-9af6-4b08-be5a-a4e0ed64bed0",
   "metadata": {},
   "outputs": [
    {
     "data": {
      "text/plain": [
       "'this is multi line comment'"
      ]
     },
     "execution_count": 2,
     "metadata": {},
     "output_type": "execute_result"
    }
   ],
   "source": [
    "'''this is multi line comment'''"
   ]
  },
  {
   "cell_type": "markdown",
   "id": "9d0ecc50-e7b0-46e6-b2b8-8dcea3d976bd",
   "metadata": {},
   "source": [
    "Q2. What are variables in Python? How do you declare and assign values to variables?"
   ]
  },
  {
   "cell_type": "raw",
   "id": "045f4824-8284-4671-979a-d059aa80ece7",
   "metadata": {},
   "source": [
    "variable are used in Python for storing and manipulating or managing the data, they can hold the various types of datatypes like int , float,etc.\n",
    "we can declare variable by any name."
   ]
  },
  {
   "cell_type": "code",
   "execution_count": 1,
   "id": "477d5b0e-a1e3-4d29-a71d-344255ae4822",
   "metadata": {},
   "outputs": [],
   "source": [
    "a=10       #int\n",
    "b=2.2      #float\n",
    "c=\"andy\"   #string\n",
    "d=True     #boolean\n",
    "\n",
    "#we can change the value of any varibale after reassigining it\n",
    "\n",
    "a=100\n",
    "#here the value of \"a\" is 10 ealry but now it is 100"
   ]
  },
  {
   "cell_type": "markdown",
   "id": "5d1912ac-07fb-4ad9-bd1d-368f04cd3acb",
   "metadata": {},
   "source": [
    "Q3. How do you convert one data type to another in Python?"
   ]
  },
  {
   "cell_type": "raw",
   "id": "13fe9561-add2-4166-b75d-3fd59a82f190",
   "metadata": {},
   "source": [
    "we can convert the on data type to another in Python using the type casting.\n",
    "Example,"
   ]
  },
  {
   "cell_type": "code",
   "execution_count": 13,
   "id": "e408009b-9357-4edd-bd8d-752dfc6acfa1",
   "metadata": {},
   "outputs": [
    {
     "data": {
      "text/plain": [
       "list"
      ]
     },
     "execution_count": 14,
     "metadata": {},
     "output_type": "execute_result"
    }
   ],
   "source": [
    "#integer to string\n",
    "num=123\n",
    "in_str = str(num)\n",
    "type (num_str)"
   ]
  },
  {
   "cell_type": "raw",
   "id": "7f30f392-e07f-43e3-8059-53132360e18a",
   "metadata": {},
   "source": [
    "#touple to list\n",
    "tuple=(1,2,3,4,5)\n",
    "in_list= list(tuple)\n",
    "type(in_list)"
   ]
  },
  {
   "cell_type": "code",
   "execution_count": 12,
   "id": "57ac287e-c4e4-4090-81d8-48ff76403141",
   "metadata": {},
   "outputs": [
    {
     "data": {
      "text/plain": [
       "bool"
      ]
     },
     "execution_count": 12,
     "metadata": {},
     "output_type": "execute_result"
    }
   ],
   "source": [
    "x=1\n",
    "in_bool=bool(x)\n",
    "type(in_bool)"
   ]
  },
  {
   "cell_type": "markdown",
   "id": "368a2a0d-ed5f-44b0-83e9-f71363990dcf",
   "metadata": {},
   "source": [
    "Q4. How do you write and execute a Python script from the command line?"
   ]
  },
  {
   "cell_type": "raw",
   "id": "d6497aae-bd7f-49a6-bc83-6dd8785fa37a",
   "metadata": {},
   "source": [
    "To execute a Python script from the command line follow following commands\n",
    " 1. open the notepad and write any simple code like, print(\"Hello World\") and then save the file by any name with extension of .py.\n",
    " 2. open the cmd and write the cd command for locating that txt file like if your file is at dextop then write cd dextop.\n",
    " 3. after getting path in cmd write the name of file and hit enter, your code will execute."
   ]
  },
  {
   "cell_type": "markdown",
   "id": "29775503-3c9c-4c6e-84a7-4b47b135ea84",
   "metadata": {},
   "source": [
    "Q5. Given a list my_list = [1, 2, 3, 4, 5], write the code to slice the list and obtain the sub-list [2, 3]."
   ]
  },
  {
   "cell_type": "code",
   "execution_count": 18,
   "id": "16da1949-5de0-485b-9b0a-c4be0d601355",
   "metadata": {},
   "outputs": [
    {
     "name": "stdout",
     "output_type": "stream",
     "text": [
      "[2, 3]\n"
     ]
    }
   ],
   "source": [
    "my_list = [1, 2, 3, 4, 5]\n",
    "sub_list = my_list[1:3]\n",
    "print(sub_list)"
   ]
  },
  {
   "cell_type": "markdown",
   "id": "f0d7cb75-cffe-41ee-89ec-7322198be395",
   "metadata": {},
   "source": [
    "Q6. What is a complex number in mathematics, and how is it represented in Python?"
   ]
  },
  {
   "cell_type": "raw",
   "id": "60ce9b99-5332-47ec-a0cc-37f891940cc3",
   "metadata": {},
   "source": [
    "in mathematics the complex num is the num which is represented in the form of 'a + ib'.\n",
    "in this a is the part of real value and b is the part of imaginary value, and i is knows as iota."
   ]
  },
  {
   "cell_type": "code",
   "execution_count": 24,
   "id": "b6f97d0f-e55b-4a59-912b-5f2b9aae0713",
   "metadata": {},
   "outputs": [
    {
     "name": "stdout",
     "output_type": "stream",
     "text": [
      "(7+8j)\n"
     ]
    },
    {
     "data": {
      "text/plain": [
       "complex"
      ]
     },
     "execution_count": 24,
     "metadata": {},
     "output_type": "execute_result"
    }
   ],
   "source": [
    "#we can create a complex num usinf following command\n",
    "Z= complex(7,8)\n",
    "print(Z)\n",
    "\n",
    "#Example\n",
    "a= 3+5j\n",
    "type(a)"
   ]
  },
  {
   "cell_type": "markdown",
   "id": "eae12bc3-62d4-41c2-ba87-1c1713278602",
   "metadata": {},
   "source": [
    "Q7. What is the correct way to declare a variable named age and assign the value 25 to it?"
   ]
  },
  {
   "cell_type": "code",
   "execution_count": 26,
   "id": "90a547b6-b450-4541-8c43-5731930f2cb1",
   "metadata": {},
   "outputs": [],
   "source": [
    "#The correct way to declare a variable named age and assign the value 25 is as follows,\n",
    "\n",
    "age = 25\n",
    "\n",
    "#here age is the variabel, = is the operator, 25 is the value or paramater"
   ]
  },
  {
   "cell_type": "markdown",
   "id": "5e771cea-6309-4362-8b20-5734516ea48a",
   "metadata": {},
   "source": [
    "Q8. Declare a variable named price and assign the value 9.99 to it. What data type does this variable\n",
    "belong to?"
   ]
  },
  {
   "cell_type": "code",
   "execution_count": 27,
   "id": "b77af4ee-b1d1-4e43-a863-868e81bc29c7",
   "metadata": {},
   "outputs": [
    {
     "data": {
      "text/plain": [
       "float"
      ]
     },
     "execution_count": 27,
     "metadata": {},
     "output_type": "execute_result"
    }
   ],
   "source": [
    "price = 9.99\n",
    "\n",
    "# to get know What data type does this variable belong to\n",
    "type(price)"
   ]
  },
  {
   "cell_type": "markdown",
   "id": "744ec80b-184c-4d66-8a3e-02216fb98962",
   "metadata": {},
   "source": [
    "Q9. Create a variable named name and assign your full name to it as a string. How would you print the value of this variable?"
   ]
  },
  {
   "cell_type": "code",
   "execution_count": 28,
   "id": "c52928f5-2933-4f9e-8449-d32d04376540",
   "metadata": {},
   "outputs": [
    {
     "name": "stdout",
     "output_type": "stream",
     "text": [
      "Aniket Vitthal Andhale\n"
     ]
    }
   ],
   "source": [
    "name = \"Aniket Vitthal Andhale\"\n",
    "print(name) "
   ]
  },
  {
   "cell_type": "markdown",
   "id": "8657bf15-1e83-432c-9627-8dd87bbb41d1",
   "metadata": {},
   "source": [
    "Q10. Given the string \"Hello, World!\", extract the substring \"World\"."
   ]
  },
  {
   "cell_type": "code",
   "execution_count": 36,
   "id": "12cb35d9-bdb6-4f45-af90-6336c1e09d3e",
   "metadata": {},
   "outputs": [
    {
     "name": "stdout",
     "output_type": "stream",
     "text": [
      " World\n"
     ]
    }
   ],
   "source": [
    "string = \"Hello, World!\"\n",
    "sub_string = string[6:12]\n",
    "print(sub_string)"
   ]
  },
  {
   "cell_type": "markdown",
   "id": "84fdea8c-5056-4c6e-ab45-6d89e197cc12",
   "metadata": {},
   "source": [
    "Q11. Create a variable named \"is_student\" and assign it a boolean value indicating whether you are\n",
    "currently a student or not."
   ]
  },
  {
   "cell_type": "code",
   "execution_count": 38,
   "id": "0713709c-60b4-49bd-a90a-b3dbabff3362",
   "metadata": {},
   "outputs": [],
   "source": [
    "is_student= True"
   ]
  },
  {
   "cell_type": "code",
   "execution_count": null,
   "id": "a2b97d1a-9e3a-4b0a-953c-1ba611d0aa89",
   "metadata": {},
   "outputs": [],
   "source": []
  }
 ],
 "metadata": {
  "kernelspec": {
   "display_name": "Python 3 (ipykernel)",
   "language": "python",
   "name": "python3"
  },
  "language_info": {
   "codemirror_mode": {
    "name": "ipython",
    "version": 3
   },
   "file_extension": ".py",
   "mimetype": "text/x-python",
   "name": "python",
   "nbconvert_exporter": "python",
   "pygments_lexer": "ipython3",
   "version": "3.10.8"
  }
 },
 "nbformat": 4,
 "nbformat_minor": 5
}
