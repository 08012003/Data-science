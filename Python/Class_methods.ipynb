{
 "cells": [
  {
   "cell_type": "markdown",
   "id": "887a2e2d",
   "metadata": {},
   "source": [
    "In Python, a class method is a method that is bound to the class itself, rather than to an instance of the class. It is defined using the @classmethod decorator and takes the class itself (cls) as the first argument, conventionally named cls."
   ]
  },
  {
   "cell_type": "code",
   "execution_count": 42,
   "id": "4dc41086-2d5b-465f-a672-a6836cc36f3d",
   "metadata": {},
   "outputs": [],
   "source": [
    "class pwskills : \n",
    "    \n",
    "    def __init__(self , name , email) :\n",
    "        \n",
    "        self.name = name \n",
    "        self.email = email\n",
    "        \n",
    "    def students_details(self):\n",
    "        print(self.name , self.email)"
   ]
  },
  {
   "cell_type": "code",
   "execution_count": 43,
   "id": "68204b06-0147-4d1c-a930-6046f7abac70",
   "metadata": {},
   "outputs": [],
   "source": [
    "pw = pwskills(\"mohan\" , \"mohan@gmail.com\")"
   ]
  },
  {
   "cell_type": "code",
   "execution_count": 44,
   "id": "82f1f470-8607-424d-81ea-9156b6605a1a",
   "metadata": {},
   "outputs": [
    {
     "data": {
      "text/plain": [
       "'mohan'"
      ]
     },
     "execution_count": 44,
     "metadata": {},
     "output_type": "execute_result"
    }
   ],
   "source": [
    "pw.name"
   ]
  },
  {
   "cell_type": "code",
   "execution_count": 45,
   "id": "31325aae-adb0-4c79-9aa3-6ff13920aa6c",
   "metadata": {},
   "outputs": [
    {
     "data": {
      "text/plain": [
       "'mohan@gmail.com'"
      ]
     },
     "execution_count": 45,
     "metadata": {},
     "output_type": "execute_result"
    }
   ],
   "source": [
    "pw.email"
   ]
  },
  {
   "cell_type": "code",
   "execution_count": 46,
   "id": "84c12d7b-1674-48e7-8461-c574c417fa39",
   "metadata": {},
   "outputs": [
    {
     "name": "stdout",
     "output_type": "stream",
     "text": [
      "mohan mohan@gmail.com\n"
     ]
    }
   ],
   "source": [
    "pw.students_details()"
   ]
  },
  {
   "cell_type": "markdown",
   "id": "fdaf52f3",
   "metadata": {},
   "source": [
    "practice for function"
   ]
  },
  {
   "cell_type": "code",
   "execution_count": 47,
   "id": "443b43bf",
   "metadata": {},
   "outputs": [],
   "source": [
    "class my_details:\n",
    "    def __init__(self, name, roll):\n",
    "        self.name = name\n",
    "        self.roll = roll\n",
    "\n",
    "    def details(self):\n",
    "        print(self.name, self.roll)"
   ]
  },
  {
   "cell_type": "code",
   "execution_count": 48,
   "id": "0346e0d1",
   "metadata": {},
   "outputs": [],
   "source": [
    "det1= my_details(\"aniket\", 62)"
   ]
  },
  {
   "cell_type": "code",
   "execution_count": 49,
   "id": "acd24d8e",
   "metadata": {},
   "outputs": [
    {
     "data": {
      "text/plain": [
       "'aniket'"
      ]
     },
     "execution_count": 49,
     "metadata": {},
     "output_type": "execute_result"
    }
   ],
   "source": [
    "det1.name"
   ]
  },
  {
   "cell_type": "code",
   "execution_count": 50,
   "id": "f532b0c2",
   "metadata": {},
   "outputs": [
    {
     "data": {
      "text/plain": [
       "62"
      ]
     },
     "execution_count": 50,
     "metadata": {},
     "output_type": "execute_result"
    }
   ],
   "source": [
    "det1.roll"
   ]
  },
  {
   "cell_type": "code",
   "execution_count": 51,
   "id": "75098382",
   "metadata": {},
   "outputs": [
    {
     "name": "stdout",
     "output_type": "stream",
     "text": [
      "aniket 62\n"
     ]
    }
   ],
   "source": [
    "det1.details()"
   ]
  },
  {
   "cell_type": "markdown",
   "id": "65b8427e",
   "metadata": {},
   "source": [
    "practice end"
   ]
  },
  {
   "cell_type": "code",
   "execution_count": 52,
   "id": "54119e14-59a1-4fff-8d42-4499fff53761",
   "metadata": {},
   "outputs": [],
   "source": [
    "class pwskills1 : \n",
    "    \n",
    "    def __init__(self , name , email) :\n",
    "        \n",
    "        self.name = name \n",
    "        self.email = email\n",
    "    \n",
    "    @classmethod\n",
    "    def details(cls ,name, email ):\n",
    "        return cls(name , email)\n",
    "        \n",
    "    def students_details(self):\n",
    "        print(self.name , self.email)"
   ]
  },
  {
   "cell_type": "code",
   "execution_count": 53,
   "id": "06f8fcaf-7dc8-4441-a6f5-8eee018fe682",
   "metadata": {},
   "outputs": [],
   "source": [
    "pw1 = pwskills1.details(\"sudh\" , \"sudh@gmail.com\")"
   ]
  },
  {
   "cell_type": "code",
   "execution_count": 54,
   "id": "0eb2d310-5e24-44d1-9f1b-6688750c5bf2",
   "metadata": {},
   "outputs": [
    {
     "data": {
      "text/plain": [
       "'sudh'"
      ]
     },
     "execution_count": 54,
     "metadata": {},
     "output_type": "execute_result"
    }
   ],
   "source": [
    "pw1.name"
   ]
  },
  {
   "cell_type": "code",
   "execution_count": 55,
   "id": "b7bebf70-178d-456c-a518-369b01f08c1b",
   "metadata": {},
   "outputs": [
    {
     "data": {
      "text/plain": [
       "'sudh@gmail.com'"
      ]
     },
     "execution_count": 55,
     "metadata": {},
     "output_type": "execute_result"
    }
   ],
   "source": [
    "pw1.email"
   ]
  },
  {
   "cell_type": "code",
   "execution_count": 56,
   "id": "a81ed801-e34a-4193-9ef5-c10bf8b1c93a",
   "metadata": {},
   "outputs": [
    {
     "name": "stdout",
     "output_type": "stream",
     "text": [
      "sudh sudh@gmail.com\n"
     ]
    }
   ],
   "source": [
    "pw1.students_details()"
   ]
  },
  {
   "cell_type": "code",
   "execution_count": 99,
   "id": "01b81558-5467-4e4d-bb7b-557a8a6857fe",
   "metadata": {},
   "outputs": [],
   "source": [
    "class pwskills2 : \n",
    "    \n",
    "    mobile_num = 912342424\n",
    "    \n",
    "    def __init__(self , name , email) :\n",
    "        \n",
    "        self.name = name \n",
    "        self.email = email\n",
    "    \n",
    "    @classmethod\n",
    "    def change_number(cls, mobile):\n",
    "        pwskills2.mobile_num = mobile\n",
    "    \n",
    "    @classmethod\n",
    "    def details(cls ,name, email ):\n",
    "        return cls(name , email)\n",
    "        \n",
    "    def students_details(self):\n",
    "        print(self.name , self.email, pwskills2.mobile_num)"
   ]
  },
  {
   "cell_type": "code",
   "execution_count": 100,
   "id": "59eb6059-c91b-4784-b5d0-0767201cbac7",
   "metadata": {},
   "outputs": [],
   "source": [
    "pw = pwskills2.details(\"rohan\" , \"rohan@gmail.com\")"
   ]
  },
  {
   "cell_type": "code",
   "execution_count": 101,
   "id": "bec83358-524d-4776-9665-a6e220351e28",
   "metadata": {},
   "outputs": [
    {
     "name": "stdout",
     "output_type": "stream",
     "text": [
      "rohan rohan@gmail.com 912342424\n"
     ]
    }
   ],
   "source": [
    "pw.students_details()"
   ]
  },
  {
   "cell_type": "code",
   "execution_count": 102,
   "id": "e59ccef7-a844-409e-9144-d0a8d053245c",
   "metadata": {},
   "outputs": [],
   "source": [
    "pw_obj = pwskills2(\"sudh\" , \"sudh@gmail.com\")"
   ]
  },
  {
   "cell_type": "code",
   "execution_count": 103,
   "id": "737893ac-1c5e-4764-a08e-d596e4e939c8",
   "metadata": {},
   "outputs": [
    {
     "name": "stdout",
     "output_type": "stream",
     "text": [
      "sudh sudh@gmail.com 912342424\n"
     ]
    }
   ],
   "source": [
    "pw_obj.students_details()"
   ]
  },
  {
   "cell_type": "code",
   "execution_count": 104,
   "id": "ca6198bc-b9eb-4277-a49c-6550f9e9e15e",
   "metadata": {},
   "outputs": [],
   "source": [
    "pwskills2.change_number(924324234)"
   ]
  },
  {
   "cell_type": "code",
   "execution_count": 105,
   "id": "d9a7a21e-42c5-47fb-9af1-e2967b472431",
   "metadata": {},
   "outputs": [
    {
     "data": {
      "text/plain": [
       "924324234"
      ]
     },
     "execution_count": 105,
     "metadata": {},
     "output_type": "execute_result"
    }
   ],
   "source": [
    "pwskills2.mobile_num"
   ]
  },
  {
   "cell_type": "code",
   "execution_count": 106,
   "id": "8217da6d-10d3-40fe-bdb1-56fdd9ce9a7c",
   "metadata": {},
   "outputs": [],
   "source": [
    "class pwskills3 : \n",
    "    \n",
    "    mobile_num = 912342424\n",
    "    \n",
    "    def __init__(self , name , email) :\n",
    "        \n",
    "        self.name = name \n",
    "        self.email = email\n",
    "    \n",
    "    @classmethod\n",
    "    def change_number(cls, mobile):\n",
    "        pwskills2.mobile_num = mobile\n",
    "    \n",
    "    @classmethod\n",
    "    def details(cls ,name, email ):\n",
    "        return cls(name , email)\n",
    "        \n",
    "    def students_details(self):\n",
    "        print(self.name , self.email,pwskills2.mobile_num)"
   ]
  },
  {
   "cell_type": "code",
   "execution_count": 107,
   "id": "2e2f743e-9419-432f-b49d-cb8f8eda031a",
   "metadata": {},
   "outputs": [],
   "source": [
    "def course_details(cls,course_name) : \n",
    "    print(\"course name is \" , course_name)"
   ]
  },
  {
   "cell_type": "code",
   "execution_count": 108,
   "id": "7a9e68a1-56ad-484e-abcb-776e5d82548d",
   "metadata": {},
   "outputs": [],
   "source": [
    "pwskills3.course_details = classmethod(course_details)"
   ]
  },
  {
   "cell_type": "code",
   "execution_count": 109,
   "id": "d2751d17-f083-4d18-bef7-25a87b86d81f",
   "metadata": {},
   "outputs": [
    {
     "name": "stdout",
     "output_type": "stream",
     "text": [
      "course name is  data science masters \n"
     ]
    }
   ],
   "source": [
    "pwskills3.course_details(\"data science masters \")"
   ]
  },
  {
   "cell_type": "code",
   "execution_count": 110,
   "id": "43e15368-d349-4b07-b1e0-b1f5d5e00101",
   "metadata": {},
   "outputs": [],
   "source": [
    "def mentor(cls , list_of_mentor) : \n",
    "    print(list_of_mentor)"
   ]
  },
  {
   "cell_type": "code",
   "execution_count": 111,
   "id": "834b203f-edca-4ecb-9d80-cd3f04e7d211",
   "metadata": {},
   "outputs": [],
   "source": [
    "pwskills3.mentor = classmethod(mentor)"
   ]
  },
  {
   "cell_type": "code",
   "execution_count": 112,
   "id": "06a7d769-d65d-4344-851d-7f0a6bd56b50",
   "metadata": {},
   "outputs": [
    {
     "name": "stdout",
     "output_type": "stream",
     "text": [
      "['sudhanshu ', 'krish naik']\n"
     ]
    }
   ],
   "source": [
    "pwskills3.mentor([\"sudhanshu \" , \"krish naik\"])"
   ]
  },
  {
   "cell_type": "code",
   "execution_count": 122,
   "id": "1d1b219c-9d85-40e9-bdf7-2a9d7b730796",
   "metadata": {},
   "outputs": [],
   "source": [
    "class pwskills4 : \n",
    "    \n",
    "    mobile_num = 912342424\n",
    "    \n",
    "    def __init__(self , name , email) :\n",
    "        \n",
    "        self.name = name \n",
    "        self.email = email\n",
    "    \n",
    "    @classmethod\n",
    "    def change_number(cls, mobile):\n",
    "        pwskills2.mobile_num = mobile\n",
    "    \n",
    "    @classmethod\n",
    "    def details(cls ,name, email ):\n",
    "        return cls(name , email)\n",
    "        \n",
    "    def students_details(self):\n",
    "        print(self.name , self.email,pwskills2.mobile_num)"
   ]
  },
  {
   "cell_type": "code",
   "execution_count": 124,
   "id": "df830039-ab12-4fda-aeb3-39dc45716e72",
   "metadata": {},
   "outputs": [],
   "source": [
    "del pwskills4.change_number"
   ]
  },
  {
   "cell_type": "code",
   "execution_count": 125,
   "id": "65e6569e-2f8d-48cf-973f-0b4301ca0ea5",
   "metadata": {},
   "outputs": [],
   "source": [
    "delattr(pwskills4 ,\"details\" )"
   ]
  },
  {
   "cell_type": "code",
   "execution_count": 126,
   "id": "410a176e-e462-4ed0-bf6d-3a9dcc70f85a",
   "metadata": {},
   "outputs": [],
   "source": [
    "delattr(pwskills4 ,\"students_details\")"
   ]
  },
  {
   "cell_type": "code",
   "execution_count": 127,
   "id": "db057167-a4a9-4f4a-a470-a7487188afad",
   "metadata": {},
   "outputs": [],
   "source": [
    "delattr(pwskills4 , \"mobile_num\")"
   ]
  },
  {
   "cell_type": "code",
   "execution_count": 128,
   "id": "053a27f7-2531-4b98-839f-d3f711218177",
   "metadata": {},
   "outputs": [
    {
     "ename": "AttributeError",
     "evalue": "type object 'pwskills4' has no attribute 'change_number'",
     "output_type": "error",
     "traceback": [
      "\u001b[1;31m---------------------------------------------------------------------------\u001b[0m",
      "\u001b[1;31mAttributeError\u001b[0m                            Traceback (most recent call last)",
      "Cell \u001b[1;32mIn[128], line 1\u001b[0m\n\u001b[1;32m----> 1\u001b[0m \u001b[43mpwskills4\u001b[49m\u001b[38;5;241;43m.\u001b[39;49m\u001b[43mchange_number\u001b[49m(\u001b[38;5;241m345345453\u001b[39m)\n",
      "\u001b[1;31mAttributeError\u001b[0m: type object 'pwskills4' has no attribute 'change_number'"
     ]
    }
   ],
   "source": [
    "pwskills4.change_number(345345453)"
   ]
  },
  {
   "cell_type": "markdown",
   "id": "585f83a6-52f4-47f9-8e43-1244e975023a",
   "metadata": {},
   "source": [
    "Example"
   ]
  },
  {
   "cell_type": "code",
   "execution_count": 142,
   "id": "63bcc247",
   "metadata": {},
   "outputs": [
    {
     "name": "stdout",
     "output_type": "stream",
     "text": [
      "Course: DSA\n",
      "Number of instances: 2\n",
      "Welcome to Geeks for Geeks!\n"
     ]
    }
   ],
   "source": [
    "class Geeks:\n",
    "    course = 'DSA'\n",
    "    list_of_instances = []\n",
    "\n",
    "    def __init__(self, name):\n",
    "        self.name = name\n",
    "        Geeks.list_of_instances.append(self)\n",
    "\n",
    "    @classmethod\n",
    "    def get_course(cls):\n",
    "        return f\"Course: {cls.course}\"\n",
    "\n",
    "    @classmethod\n",
    "    def get_instance_count(cls):\n",
    "        return f\"Number of instances: {len(cls.list_of_instances)}\"\n",
    "\n",
    "    @staticmethod\n",
    "    def welcome_message():\n",
    "        return \"Welcome to Geeks for Geeks!\"\n",
    "\n",
    "# Creating instances\n",
    "g1 = Geeks('Alice')\n",
    "g2 = Geeks('Bob')\n",
    "\n",
    "# Calling class methods\n",
    "print(Geeks.get_course())  \n",
    "print(Geeks.get_instance_count())  \n",
    "\n",
    "# Calling static method\n",
    "print(Geeks.welcome_message())  "
   ]
  },
  {
   "cell_type": "code",
   "execution_count": 167,
   "id": "a2ce5308",
   "metadata": {},
   "outputs": [],
   "source": [
    "class home:\n",
    "    my_name=\"Aniket\"\n",
    "    family_mem = []\n",
    "\n",
    "    def __init__(self, name):\n",
    "        self.name =name\n",
    "        home.family_mem.append(self)\n",
    "\n",
    "    @classmethod\n",
    "    def get_name(cls):\n",
    "        return f\"Name: {cls.my_name}\"\n",
    "    \n",
    "    @classmethod\n",
    "    def get_count(cls):\n",
    "        return f\"Number of family member: {len(cls.family_mem)}\"\n",
    "    \n",
    "    @classmethod\n",
    "    def welcome(cls):\n",
    "        return \"Welcome to my family!\"\n",
    "    \n",
    "    @classmethod\n",
    "    def name_attach(cls):\n",
    "        return f\"my name is {cls.my_name}\""
   ]
  },
  {
   "cell_type": "code",
   "execution_count": 168,
   "id": "2a241177",
   "metadata": {},
   "outputs": [],
   "source": [
    "m1=home(\"bharti\")\n",
    "m2=home(\"mukta\")\n",
    "m3=home(\"vitthal\")"
   ]
  },
  {
   "cell_type": "code",
   "execution_count": 169,
   "id": "a49a0258",
   "metadata": {},
   "outputs": [
    {
     "name": "stdout",
     "output_type": "stream",
     "text": [
      "Name: Aniket\n"
     ]
    }
   ],
   "source": [
    "print(home.get_name())"
   ]
  },
  {
   "cell_type": "code",
   "execution_count": 170,
   "id": "0626cb42",
   "metadata": {},
   "outputs": [
    {
     "name": "stdout",
     "output_type": "stream",
     "text": [
      "my name is Aniket\n"
     ]
    }
   ],
   "source": [
    "print(home.name_attach())"
   ]
  },
  {
   "cell_type": "code",
   "execution_count": 171,
   "id": "8d5574c0",
   "metadata": {},
   "outputs": [
    {
     "name": "stdout",
     "output_type": "stream",
     "text": [
      "Welcome to my family!\n"
     ]
    }
   ],
   "source": [
    "print(home.welcome())"
   ]
  },
  {
   "cell_type": "code",
   "execution_count": 172,
   "id": "cbb32bde",
   "metadata": {},
   "outputs": [
    {
     "name": "stdout",
     "output_type": "stream",
     "text": [
      "Number of family member: 3\n"
     ]
    }
   ],
   "source": [
    "print(home.get_count())"
   ]
  }
 ],
 "metadata": {
  "kernelspec": {
   "display_name": "Python 3 (ipykernel)",
   "language": "python",
   "name": "python3"
  },
  "language_info": {
   "codemirror_mode": {
    "name": "ipython",
    "version": 3
   },
   "file_extension": ".py",
   "mimetype": "text/x-python",
   "name": "python",
   "nbconvert_exporter": "python",
   "pygments_lexer": "ipython3",
   "version": "3.12.6"
  }
 },
 "nbformat": 4,
 "nbformat_minor": 5
}
