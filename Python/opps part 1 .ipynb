{
 "cells": [
  {
   "cell_type": "markdown",
   "id": "5f5f44dc-7790-4d76-ba0d-81b27963d2d9",
   "metadata": {},
   "source": [
    "\"Oops\" stands for Object-Oriented Programming System"
   ]
  },
  {
   "cell_type": "code",
   "execution_count": 1,
   "id": "49ff14d3-8b20-49f5-808e-68a7a94b13ce",
   "metadata": {},
   "outputs": [],
   "source": [
    "a = 1 "
   ]
  },
  {
   "cell_type": "code",
   "execution_count": 2,
   "id": "b4c9b3bb-6a88-49c7-9bd0-b012fc62a6fa",
   "metadata": {},
   "outputs": [
    {
     "name": "stdout",
     "output_type": "stream",
     "text": [
      "<class 'int'>\n"
     ]
    }
   ],
   "source": [
    "print(type(a))"
   ]
  },
  {
   "cell_type": "code",
   "execution_count": 3,
   "id": "4a57160b-1454-4574-b833-e4e58c5e2536",
   "metadata": {},
   "outputs": [
    {
     "name": "stdout",
     "output_type": "stream",
     "text": [
      "<class 'str'>\n"
     ]
    }
   ],
   "source": [
    "print(type(\"pwskills\"))"
   ]
  },
  {
   "cell_type": "code",
   "execution_count": 4,
   "id": "d6cb2c14-823d-436b-85a2-1afa2266e1d1",
   "metadata": {},
   "outputs": [],
   "source": [
    "class test :\n",
    "    pass"
   ]
  },
  {
   "cell_type": "code",
   "execution_count": 5,
   "id": "fa923333-3e3e-48b3-b7e4-6efb819c3f58",
   "metadata": {},
   "outputs": [],
   "source": [
    "a = test()"
   ]
  },
  {
   "cell_type": "code",
   "execution_count": 6,
   "id": "f9719db9-e4c2-4e21-aa9d-9f4afbda8874",
   "metadata": {},
   "outputs": [
    {
     "data": {
      "text/plain": [
       "__main__.test"
      ]
     },
     "execution_count": 6,
     "metadata": {},
     "output_type": "execute_result"
    }
   ],
   "source": [
    "type(a)"
   ]
  },
  {
   "cell_type": "code",
   "execution_count": 7,
   "id": "44f474ba-e47a-437f-b7b5-4645e308d598",
   "metadata": {},
   "outputs": [
    {
     "name": "stdout",
     "output_type": "stream",
     "text": [
      "<class '__main__.test'>\n"
     ]
    }
   ],
   "source": [
    "print(type(a))"
   ]
  },
  {
   "cell_type": "code",
   "execution_count": 1,
   "id": "e974ee5e-1cd8-4761-9f6b-371a697e7312",
   "metadata": {},
   "outputs": [],
   "source": [
    "class pwskills : \n",
    "    \n",
    "    def welcome_msg(self):\n",
    "        print(\"welcome to pwskills\")"
   ]
  },
  {
   "cell_type": "code",
   "execution_count": 2,
   "id": "ea7a2d40-9e31-4a6b-b9c7-0797542b2e17",
   "metadata": {},
   "outputs": [],
   "source": [
    "rohan = pwskills()"
   ]
  },
  {
   "cell_type": "code",
   "execution_count": 10,
   "id": "9d8358d5-2a20-41e0-92ce-f994677f5d54",
   "metadata": {},
   "outputs": [
    {
     "name": "stdout",
     "output_type": "stream",
     "text": [
      "<class '__main__.pwskills'>\n"
     ]
    }
   ],
   "source": [
    "print(type(rohan))"
   ]
  },
  {
   "cell_type": "code",
   "execution_count": 3,
   "id": "0097bd0b-70cc-4d25-97e0-8ccc1e77974c",
   "metadata": {},
   "outputs": [
    {
     "name": "stdout",
     "output_type": "stream",
     "text": [
      "welcome to pwskills\n"
     ]
    }
   ],
   "source": [
    "rohan.welcome_msg()"
   ]
  },
  {
   "cell_type": "code",
   "execution_count": 12,
   "id": "957ceef9-bc00-4ec8-a2a7-c8a2c5a7cb2a",
   "metadata": {},
   "outputs": [],
   "source": [
    "gaurav = pwskills()"
   ]
  },
  {
   "cell_type": "code",
   "execution_count": 13,
   "id": "df1dd42c-c88f-4f1e-abb8-13462e51fe02",
   "metadata": {},
   "outputs": [
    {
     "name": "stdout",
     "output_type": "stream",
     "text": [
      "welcome to pwskills\n"
     ]
    }
   ],
   "source": [
    "gaurav.welcome_msg()"
   ]
  },
  {
   "cell_type": "code",
   "execution_count": 29,
   "id": "925ae828",
   "metadata": {},
   "outputs": [],
   "source": [
    "class family :\n",
    "    def andhale(self):\n",
    "        print(\"this is family mem\")"
   ]
  },
  {
   "cell_type": "code",
   "execution_count": 30,
   "id": "9ce6c02f",
   "metadata": {},
   "outputs": [],
   "source": [
    "aniket=family()"
   ]
  },
  {
   "cell_type": "code",
   "execution_count": 31,
   "id": "de57d601",
   "metadata": {},
   "outputs": [
    {
     "name": "stdout",
     "output_type": "stream",
     "text": [
      "this is family mem\n"
     ]
    }
   ],
   "source": [
    "aniket.andhale()"
   ]
  },
  {
   "cell_type": "code",
   "execution_count": 33,
   "id": "0e6af647",
   "metadata": {},
   "outputs": [],
   "source": [
    "bharti= family()"
   ]
  },
  {
   "cell_type": "code",
   "execution_count": 34,
   "id": "0e98eaeb",
   "metadata": {},
   "outputs": [
    {
     "name": "stdout",
     "output_type": "stream",
     "text": [
      "this is family mem\n"
     ]
    }
   ],
   "source": [
    "bharti.andhale()"
   ]
  },
  {
   "cell_type": "code",
   "execution_count": 14,
   "id": "a0c803d4-25f0-4f19-ac38-434120f84497",
   "metadata": {},
   "outputs": [],
   "source": [
    "class pwskills1 :\n",
    "    \n",
    "    def __init__(self ,phone_number , email_id , student_id ):\n",
    "        self.phone_number = phone_number\n",
    "        self.email_id = email_id\n",
    "        self.student_id = student_id\n",
    "    \n",
    "    def return_student_deetials(self) : \n",
    "        return self.student_id ,self.phone_number ,self.email_id\n",
    "    "
   ]
  },
  {
   "cell_type": "code",
   "execution_count": 15,
   "id": "afc21b01-a33b-464c-a2fc-becf84c14cd7",
   "metadata": {},
   "outputs": [],
   "source": [
    "rohan = pwskills1(122232432342, \"rohan@gmail.com\" , 101)"
   ]
  },
  {
   "cell_type": "code",
   "execution_count": 16,
   "id": "bc3241e2-7bcf-4169-91d2-a1f98f846096",
   "metadata": {},
   "outputs": [
    {
     "data": {
      "text/plain": [
       "122232432342"
      ]
     },
     "execution_count": 16,
     "metadata": {},
     "output_type": "execute_result"
    }
   ],
   "source": [
    "rohan.phone_number"
   ]
  },
  {
   "cell_type": "code",
   "execution_count": 17,
   "id": "b6d01b96-e406-4496-b42d-9cb0452c6cf7",
   "metadata": {},
   "outputs": [
    {
     "data": {
      "text/plain": [
       "'rohan@gmail.com'"
      ]
     },
     "execution_count": 17,
     "metadata": {},
     "output_type": "execute_result"
    }
   ],
   "source": [
    "rohan.email_id"
   ]
  },
  {
   "cell_type": "code",
   "execution_count": 18,
   "id": "9bd2123c-a261-4a4d-ae52-eb64573b53fa",
   "metadata": {},
   "outputs": [
    {
     "data": {
      "text/plain": [
       "(101, 122232432342, 'rohan@gmail.com')"
      ]
     },
     "execution_count": 18,
     "metadata": {},
     "output_type": "execute_result"
    }
   ],
   "source": [
    "rohan.return_student_deetials()"
   ]
  },
  {
   "cell_type": "code",
   "execution_count": 19,
   "id": "9128e91c-f9f3-43b1-b64e-9e3b177c6755",
   "metadata": {},
   "outputs": [],
   "source": [
    "gaurav = pwskills1(98797867678, \"gaurav@gmail.com\" , 102)"
   ]
  },
  {
   "cell_type": "code",
   "execution_count": 20,
   "id": "8dc7ccfd-f72a-4898-95b0-2f4d9d19b8ee",
   "metadata": {},
   "outputs": [
    {
     "data": {
      "text/plain": [
       "(102, 98797867678, 'gaurav@gmail.com')"
      ]
     },
     "execution_count": 20,
     "metadata": {},
     "output_type": "execute_result"
    }
   ],
   "source": [
    "gaurav.return_student_deetials()"
   ]
  },
  {
   "cell_type": "code",
   "execution_count": 21,
   "id": "e09e7df0-922b-482a-a866-454539e9e70c",
   "metadata": {},
   "outputs": [],
   "source": [
    "class pwskills2 :\n",
    "    \n",
    "    def __init__(self ,phone_number , email_id , student_id ):\n",
    "        self.phone_number1 = phone_number\n",
    "        self.email_id1 = email_id\n",
    "        self.student_id1 = student_id\n",
    "    \n",
    "    def return_student_deetials(self) : \n",
    "        return self.student_id1 ,self.phone_number1 ,self.email_id1\n",
    "    "
   ]
  },
  {
   "cell_type": "code",
   "execution_count": 22,
   "id": "358fb994-7d97-4807-9f28-3933b3979e2f",
   "metadata": {},
   "outputs": [],
   "source": [
    "sudh = pwskills2(999954355, \"sudh@gmail.com\" , 102)"
   ]
  },
  {
   "cell_type": "code",
   "execution_count": 23,
   "id": "10f5cd7a-837f-455f-b2cb-df4cf496da50",
   "metadata": {},
   "outputs": [
    {
     "data": {
      "text/plain": [
       "999954355"
      ]
     },
     "execution_count": 23,
     "metadata": {},
     "output_type": "execute_result"
    }
   ],
   "source": [
    "sudh.phone_number1"
   ]
  },
  {
   "cell_type": "code",
   "execution_count": 24,
   "id": "e64431c0-7a55-48ba-9c4a-b9e12a52896a",
   "metadata": {},
   "outputs": [
    {
     "data": {
      "text/plain": [
       "'sudh@gmail.com'"
      ]
     },
     "execution_count": 24,
     "metadata": {},
     "output_type": "execute_result"
    }
   ],
   "source": [
    "sudh.email_id1"
   ]
  },
  {
   "cell_type": "code",
   "execution_count": 25,
   "id": "265a8fd0-40b9-45d6-959d-7e0d1c7400eb",
   "metadata": {},
   "outputs": [
    {
     "data": {
      "text/plain": [
       "(102, 999954355, 'sudh@gmail.com')"
      ]
     },
     "execution_count": 25,
     "metadata": {},
     "output_type": "execute_result"
    }
   ],
   "source": [
    "sudh.return_student_deetials()"
   ]
  },
  {
   "cell_type": "code",
   "execution_count": 26,
   "id": "9e471991-7b97-40aa-ada9-aaeeff51a1ed",
   "metadata": {},
   "outputs": [],
   "source": [
    "class pwskills2 :\n",
    "    \n",
    "    def __init__(sudh ,phone_number , email_id , student_id ):\n",
    "        sudh.phone_number1 = phone_number\n",
    "        sudh.email_id1 = email_id\n",
    "        sudh.student_id1 = student_id\n",
    "    \n",
    "    def return_student_deetials(sudh) : \n",
    "        return sudh.student_id1 ,sudh.phone_number1 ,sudh.email_id1\n",
    "    "
   ]
  },
  {
   "cell_type": "code",
   "execution_count": 27,
   "id": "00e19e9e-4452-4ada-991d-e8e92dba7b44",
   "metadata": {},
   "outputs": [],
   "source": [
    "rohan = pwskills2(345365, \"rohan@gmail.com\" , 324)"
   ]
  },
  {
   "cell_type": "code",
   "execution_count": 28,
   "id": "02c3459f-306a-4fc2-92ba-58d0a6afcfe3",
   "metadata": {},
   "outputs": [
    {
     "data": {
      "text/plain": [
       "345365"
      ]
     },
     "execution_count": 28,
     "metadata": {},
     "output_type": "execute_result"
    }
   ],
   "source": [
    "rohan.phone_number1"
   ]
  },
  {
   "cell_type": "code",
   "execution_count": 35,
   "id": "f65f69cf-768d-4292-a635-5a0eec120c36",
   "metadata": {},
   "outputs": [],
   "source": [
    "class classroom:\n",
    "    def __init__(self, name, roll, marks):\n",
    "        self.name= name\n",
    "        self.roll=roll\n",
    "        self.marks=marks\n",
    "    \n",
    "    def student_details(self):\n",
    "        print(self.name, self.roll, self.marks)\n"
   ]
  },
  {
   "cell_type": "code",
   "execution_count": 36,
   "id": "9a5076c4",
   "metadata": {},
   "outputs": [],
   "source": [
    "aniket=classroom(\"anu\", 8, 100)"
   ]
  },
  {
   "cell_type": "code",
   "execution_count": 37,
   "id": "88451a57",
   "metadata": {},
   "outputs": [
    {
     "name": "stdout",
     "output_type": "stream",
     "text": [
      "anu 8 100\n"
     ]
    }
   ],
   "source": [
    "aniket.student_details()"
   ]
  },
  {
   "cell_type": "code",
   "execution_count": 38,
   "id": "863b1d50",
   "metadata": {},
   "outputs": [
    {
     "data": {
      "text/plain": [
       "'anu'"
      ]
     },
     "execution_count": 38,
     "metadata": {},
     "output_type": "execute_result"
    }
   ],
   "source": [
    "aniket.name"
   ]
  },
  {
   "cell_type": "code",
   "execution_count": 39,
   "id": "cf548b10",
   "metadata": {},
   "outputs": [
    {
     "data": {
      "text/plain": [
       "100"
      ]
     },
     "execution_count": 39,
     "metadata": {},
     "output_type": "execute_result"
    }
   ],
   "source": [
    "aniket.marks"
   ]
  },
  {
   "cell_type": "code",
   "execution_count": 49,
   "id": "be11d18d",
   "metadata": {},
   "outputs": [],
   "source": [
    "class Cars:\n",
    "    def __init__(self, company, color, price):\n",
    "        self.company_name= company\n",
    "        self.color_name=color\n",
    "        self.price_money=price\n",
    "\n",
    "    def details(self):\n",
    "        return self.company_name, self.color_name, self.price_money"
   ]
  },
  {
   "cell_type": "code",
   "execution_count": 50,
   "id": "52d65a31",
   "metadata": {},
   "outputs": [],
   "source": [
    "Car1 = Cars(\"bmw\", \"white\", 50000)\n",
    "Car2 = Cars(\"audy\", \"blue\", 40000)\n",
    "Car3 = Cars(\"fararri\", \"red\", 60000)\n",
    "Car4 = Cars(\"toyota\", \"black\", 70000)\n",
    "Car5 = Cars(\"velar\", \"white\", 90000)"
   ]
  },
  {
   "cell_type": "code",
   "execution_count": 51,
   "id": "7b24172e",
   "metadata": {},
   "outputs": [
    {
     "data": {
      "text/plain": [
       "'white'"
      ]
     },
     "execution_count": 51,
     "metadata": {},
     "output_type": "execute_result"
    }
   ],
   "source": [
    "Car1.color_name"
   ]
  },
  {
   "cell_type": "code",
   "execution_count": 52,
   "id": "c46f726e",
   "metadata": {},
   "outputs": [
    {
     "data": {
      "text/plain": [
       "<__main__.Cars at 0x1302371deb0>"
      ]
     },
     "execution_count": 52,
     "metadata": {},
     "output_type": "execute_result"
    }
   ],
   "source": [
    "Car1"
   ]
  },
  {
   "cell_type": "code",
   "execution_count": 53,
   "id": "18e9b616",
   "metadata": {},
   "outputs": [
    {
     "data": {
      "text/plain": [
       "__main__.Cars"
      ]
     },
     "execution_count": 53,
     "metadata": {},
     "output_type": "execute_result"
    }
   ],
   "source": [
    "type(Car1)"
   ]
  },
  {
   "cell_type": "code",
   "execution_count": 54,
   "id": "5b54bbca",
   "metadata": {},
   "outputs": [
    {
     "data": {
      "text/plain": [
       "<bound method Cars.details of <__main__.Cars object at 0x000001302371DEB0>>"
      ]
     },
     "execution_count": 54,
     "metadata": {},
     "output_type": "execute_result"
    }
   ],
   "source": [
    "Car1.details"
   ]
  },
  {
   "cell_type": "code",
   "execution_count": 55,
   "id": "490e5ea1",
   "metadata": {},
   "outputs": [
    {
     "data": {
      "text/plain": [
       "('bmw', 'white', 50000)"
      ]
     },
     "execution_count": 55,
     "metadata": {},
     "output_type": "execute_result"
    }
   ],
   "source": [
    "Car1.details()"
   ]
  },
  {
   "cell_type": "code",
   "execution_count": 57,
   "id": "093fcfd9",
   "metadata": {},
   "outputs": [
    {
     "data": {
      "text/plain": [
       "40000"
      ]
     },
     "execution_count": 57,
     "metadata": {},
     "output_type": "execute_result"
    }
   ],
   "source": [
    "Car2.price_money"
   ]
  },
  {
   "cell_type": "code",
   "execution_count": null,
   "id": "6fa3b2e5",
   "metadata": {},
   "outputs": [],
   "source": []
  }
 ],
 "metadata": {
  "kernelspec": {
   "display_name": "Python 3 (ipykernel)",
   "language": "python",
   "name": "python3"
  },
  "language_info": {
   "codemirror_mode": {
    "name": "ipython",
    "version": 3
   },
   "file_extension": ".py",
   "mimetype": "text/x-python",
   "name": "python",
   "nbconvert_exporter": "python",
   "pygments_lexer": "ipython3",
   "version": "3.12.5"
  }
 },
 "nbformat": 4,
 "nbformat_minor": 5
}
