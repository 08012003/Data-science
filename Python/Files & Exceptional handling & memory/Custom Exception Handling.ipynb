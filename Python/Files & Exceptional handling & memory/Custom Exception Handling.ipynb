{
 "cells": [
  {
   "cell_type": "code",
   "execution_count": 10,
   "id": "e0da73fa-4664-465e-b642-c674b85f8563",
   "metadata": {},
   "outputs": [
    {
     "data": {
      "text/plain": [
       "50"
      ]
     },
     "execution_count": 10,
     "metadata": {},
     "output_type": "execute_result"
    }
   ],
   "source": [
    "age = int(input(\"enter your age\" ))\n",
    "age"
   ]
  },
  {
   "cell_type": "code",
   "execution_count": 11,
   "id": "8cd952db-3fe5-4652-bac2-8fc75abd5128",
   "metadata": {},
   "outputs": [],
   "source": [
    "class validateage(Exception):\n",
    "    \n",
    "    def __init__(self , msg) : \n",
    "        self.msg = msg"
   ]
  },
  {
   "cell_type": "code",
   "execution_count": 13,
   "id": "e210d7f4-85dd-446d-a03e-2a514e949b5f",
   "metadata": {},
   "outputs": [],
   "source": [
    "def validateage(age) : \n",
    "    if age < 0 :\n",
    "        raise validateage(\"entered age is negative \" )\n",
    "    elif age > 200 : \n",
    "        raise validateage(\"enterd age is very very high \" )\n",
    "    else :\n",
    "        print(\"age is valid\" )"
   ]
  },
  {
   "cell_type": "code",
   "execution_count": 14,
   "id": "fc6eb13c-e38b-41c5-b552-1cc35552f88d",
   "metadata": {},
   "outputs": [
    {
     "name": "stdout",
     "output_type": "stream",
     "text": [
      "age is valid\n"
     ]
    }
   ],
   "source": [
    "try :\n",
    "    age = int(input(\"enter your age\" ))\n",
    "    validateage(age)\n",
    "except validateage as e :\n",
    "    print(e)"
   ]
  },
  {
   "cell_type": "markdown",
   "id": "cb5a47ae",
   "metadata": {},
   "source": [
    "In Python, we can define custom exceptions by creating a new class that is derived from the built-in Exception class."
   ]
  },
  {
   "cell_type": "markdown",
   "id": "4057a18d",
   "metadata": {},
   "source": [
    "```\n",
    "class CustomError(Exception):\n",
    "    ...\n",
    "    pass\n",
    "\n",
    "try:\n",
    "   ...\n",
    "\n",
    "except CustomError:\n",
    "    ...\n",
    "```"
   ]
  },
  {
   "cell_type": "code",
   "execution_count": 17,
   "id": "23123752",
   "metadata": {},
   "outputs": [
    {
     "name": "stdout",
     "output_type": "stream",
     "text": [
      "Eligible to Vote\n"
     ]
    }
   ],
   "source": [
    "# define Python user-defined exceptions\n",
    "class InvalidAgeException(Exception):\n",
    "    \"Raised when the input value is less than 18\"\n",
    "    pass\n",
    "\n",
    "# you need to guess this number\n",
    "number = 18\n",
    "\n",
    "try:\n",
    "    input_num = int(input(\"Enter a number: \"))\n",
    "    if input_num < number:\n",
    "        raise InvalidAgeException\n",
    "    else:\n",
    "        print(\"Eligible to Vote\")\n",
    "        \n",
    "except InvalidAgeException:\n",
    "    print(\"Exception occurred: Invalid Age\")"
   ]
  },
  {
   "cell_type": "code",
   "execution_count": 26,
   "id": "bacbd381",
   "metadata": {},
   "outputs": [
    {
     "name": "stdout",
     "output_type": "stream",
     "text": [
      "You are not eligible to get marry\n"
     ]
    }
   ],
   "source": [
    "class marriage_age_exception(Exception):\n",
    "    pass\n",
    "\n",
    "fixed_num = 21\n",
    "\n",
    "try:\n",
    "    input_age = int(input(\"Enter the age: \"))\n",
    "    if input_age < fixed_num:\n",
    "        raise marriage_age_exception\n",
    "    else:\n",
    "        print(\"Eligible to get marry\")\n",
    "\n",
    "except marriage_age_exception:\n",
    "    print(\"You are not eligible to get marry\")"
   ]
  }
 ],
 "metadata": {
  "kernelspec": {
   "display_name": "Python 3",
   "language": "python",
   "name": "python3"
  },
  "language_info": {
   "codemirror_mode": {
    "name": "ipython",
    "version": 3
   },
   "file_extension": ".py",
   "mimetype": "text/x-python",
   "name": "python",
   "nbconvert_exporter": "python",
   "pygments_lexer": "ipython3",
   "version": "3.12.6"
  }
 },
 "nbformat": 4,
 "nbformat_minor": 5
}
