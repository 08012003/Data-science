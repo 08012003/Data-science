{
 "cells": [
  {
   "cell_type": "markdown",
   "id": "4c8b8465",
   "metadata": {},
   "source": [
    "### Built-in Exceptions"
   ]
  },
  {
   "cell_type": "markdown",
   "id": "8f49f52b",
   "metadata": {},
   "source": [
    "The table below shows built-in exceptions that are usually raised in Python:"
   ]
  },
  {
   "cell_type": "markdown",
   "id": "baf7c6c9",
   "metadata": {},
   "source": [
    "| Exception               | Description                                                                 |\n",
    "|-------------------------|-----------------------------------------------------------------------------|\n",
    "| ArithmeticError          | Raised when an error occurs in numeric calculations                         |\n",
    "| AssertionError           | Raised when an assert statement fails                                       |\n",
    "| AttributeError           | Raised when attribute reference or assignment fails                        |\n",
    "| Exception                | Base class for all exceptions                                               |\n",
    "| EOFError                 | Raised when the input() method hits an \"end of file\" condition (EOF)         |\n",
    "| FloatingPointError       | Raised when a floating point calculation fails                              |\n",
    "| GeneratorExit            | Raised when a generator is closed (with the close() method)                 |\n",
    "| ImportError              | Raised when an imported module does not exist                               |\n",
    "| IndentationError         | Raised when indentation is not correct                                      |\n",
    "| IndexError               | Raised when an index of a sequence does not exist                           |\n",
    "| KeyError                 | Raised when a key does not exist in a dictionary                            |\n",
    "| KeyboardInterrupt        | Raised when the user presses Ctrl+c, Ctrl+z or Delete                       |\n",
    "| LookupError              | Raised when errors raised can't be found                                    |\n",
    "| MemoryError              | Raised when a program runs out of memory                                    |\n",
    "| NameError                | Raised when a variable does not exist                                       |\n",
    "| NotImplementedError      | Raised when an abstract method requires an inherited class to override it   |\n",
    "| OSError                  | Raised when a system-related operation causes an error                      |\n",
    "| OverflowError            | Raised when the result of a numeric calculation is too large                |\n",
    "| ReferenceError           | Raised when a weak reference object does not exist                          |\n",
    "| RuntimeError             | Raised when an error occurs that does not belong to any specific exceptions |\n",
    "| StopIteration            | Raised when the next() method of an iterator has no further values          |\n",
    "| SyntaxError              | Raised when a syntax error occurs                                           |\n",
    "| TabError                 | Raised when indentation consists of tabs or spaces                         |\n",
    "| SystemError              | Raised when a system error occurs                                           |\n",
    "| SystemExit               | Raised when the sys.exit() function is called                               |\n",
    "| TypeError                | Raised when two different types are combined                                |\n",
    "| UnboundLocalError        | Raised when a local variable is referenced before assignment                |\n",
    "| UnicodeError             | Raised when a unicode problem occurs                                        |\n",
    "| UnicodeEncodeError       | Raised when a unicode encoding problem occurs                               |\n",
    "| UnicodeDecodeError       | Raised when a unicode decoding problem occurs                               |\n",
    "| UnicodeTranslateError    | Raised when a unicode translation problem occurs                            |\n",
    "| ValueError               | Raised when there is a wrong value in a specified data type                 |\n",
    "| ZeroDivisionError        | Raised when the second operator in a division is zero                       |\n"
   ]
  },
  {
   "cell_type": "code",
   "execution_count": 24,
   "id": "20158457",
   "metadata": {},
   "outputs": [
    {
     "name": "stdout",
     "output_type": "stream",
     "text": [
      "division by zero\n"
     ]
    }
   ],
   "source": [
    "try :     \n",
    "    a = 10/0\n",
    "except ZeroDivisionError as e :\n",
    "    print(e)"
   ]
  },
  {
   "cell_type": "code",
   "execution_count": 14,
   "id": "1384a309-7b12-4ca4-ab05-3a61c295a349",
   "metadata": {},
   "outputs": [
    {
     "name": "stdout",
     "output_type": "stream",
     "text": [
      "invalid literal for int() with base 10: 'sudh'\n"
     ]
    }
   ],
   "source": [
    "try :\n",
    "    int(\"sudh\")\n",
    "except (ValueError , TypeError) as e :\n",
    "    print(e)"
   ]
  },
  {
   "cell_type": "code",
   "execution_count": 15,
   "id": "d6a4158b-f1f5-4016-8dfd-323c99373667",
   "metadata": {},
   "outputs": [
    {
     "name": "stdout",
     "output_type": "stream",
     "text": [
      "this will catch an error\n"
     ]
    }
   ],
   "source": [
    "try :\n",
    "    int(\"sudh\")\n",
    "except:\n",
    "    print(\"this will catch an error\")"
   ]
  },
  {
   "cell_type": "code",
   "execution_count": 16,
   "id": "bb2b4c82-88cf-4ffd-b08b-b1751ad96420",
   "metadata": {},
   "outputs": [
    {
     "name": "stdout",
     "output_type": "stream",
     "text": [
      "No module named 'sudh'\n"
     ]
    },
    {
     "data": {
      "text/plain": [
       "2.5"
      ]
     },
     "execution_count": 16,
     "metadata": {},
     "output_type": "execute_result"
    }
   ],
   "source": [
    "try :\n",
    "    import sudh\n",
    "except ImportError as e :\n",
    "    print(e)\n",
    "10/4"
   ]
  },
  {
   "cell_type": "code",
   "execution_count": 30,
   "id": "72e0825e-61bf-4cea-bedd-91f6583161b1",
   "metadata": {},
   "outputs": [
    {
     "name": "stdout",
     "output_type": "stream",
     "text": [
      "'key2'\n"
     ]
    }
   ],
   "source": [
    "try :\n",
    "    d = {\"key\" :\"sudh\" , 1 : [2,3,4,5]}\n",
    "    print(d[\"key2\"])\n",
    "except KeyError as e : \n",
    "    print(e)"
   ]
  },
  {
   "cell_type": "code",
   "execution_count": 18,
   "id": "47e3fa58-f047-4a88-b1a4-cd7d9a5f0ab9",
   "metadata": {},
   "outputs": [
    {
     "name": "stdout",
     "output_type": "stream",
     "text": [
      "'str' object has no attribute 'test'\n"
     ]
    }
   ],
   "source": [
    "try : \n",
    "    \"sudh\".test()\n",
    "except AttributeError as e :\n",
    "    print(e)\n",
    "    "
   ]
  },
  {
   "cell_type": "code",
   "execution_count": 19,
   "id": "a9a2b5b3-26ba-4581-9404-ecfc8bafc438",
   "metadata": {},
   "outputs": [
    {
     "name": "stdout",
     "output_type": "stream",
     "text": [
      "list index out of range\n"
     ]
    }
   ],
   "source": [
    "try :\n",
    "    l = [2,3,4,5]\n",
    "    print(l[6])\n",
    "except IndexError as e :\n",
    "    print(e)"
   ]
  },
  {
   "cell_type": "code",
   "execution_count": 20,
   "id": "ea0569f6-ba32-41cd-acde-b7d0ac83d700",
   "metadata": {},
   "outputs": [
    {
     "name": "stdout",
     "output_type": "stream",
     "text": [
      "unsupported operand type(s) for +: 'int' and 'str'\n"
     ]
    }
   ],
   "source": [
    "try :\n",
    "    123 + \"sudh\"\n",
    "except TypeError as e :\n",
    "    print(e)"
   ]
  },
  {
   "cell_type": "code",
   "execution_count": 21,
   "id": "a2565cde-441d-4789-9ee2-b39eb362c154",
   "metadata": {},
   "outputs": [],
   "source": [
    "try :\n",
    "    with open(\"test.txt\" , 'r') as f :\n",
    "        test = f.read()\n",
    "except FileNotFoundError as e :\n",
    "    print(e)"
   ]
  },
  {
   "cell_type": "code",
   "execution_count": 22,
   "id": "fc071116-494a-4d0d-a10f-51da0600c63d",
   "metadata": {},
   "outputs": [],
   "source": [
    "try :\n",
    "    with open(\"test.txt\" , 'r') as f :\n",
    "        test = f.read()\n",
    "except Exception as e :\n",
    "    print(e)\n",
    "except FileNotFoundError as e :\n",
    "    print(\"test \" , e)"
   ]
  },
  {
   "cell_type": "code",
   "execution_count": 32,
   "id": "5793ef19-338a-46ac-ace6-95281a6e0568",
   "metadata": {},
   "outputs": [],
   "source": [
    "def test(file):\n",
    "    try :\n",
    "        with open(file , 'r') as f :\n",
    "            test = f.read()\n",
    "    except Exception as e :\n",
    "        print(e)\n",
    "    except FileNotFoundError as e :\n",
    "        print(\"test\" , e)"
   ]
  }
 ],
 "metadata": {
  "kernelspec": {
   "display_name": "Python 3",
   "language": "python",
   "name": "python3"
  },
  "language_info": {
   "codemirror_mode": {
    "name": "ipython",
    "version": 3
   },
   "file_extension": ".py",
   "mimetype": "text/x-python",
   "name": "python",
   "nbconvert_exporter": "python",
   "pygments_lexer": "ipython3",
   "version": "3.12.6"
  }
 },
 "nbformat": 4,
 "nbformat_minor": 5
}
