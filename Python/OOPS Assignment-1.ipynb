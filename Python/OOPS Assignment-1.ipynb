{
 "cells": [
  {
   "cell_type": "markdown",
   "metadata": {},
   "source": [
    "Q1. Explain Class and Object with respect to Object-Oriented Programming. Give a suitable example.\n",
    "\n",
    "Class: A class is a blueprint or template for creating objects. It defines a set of properties (attributes) and methods (functions) that the objects created from the class will have.\n",
    "\n",
    "Object: An object is an instance of a class. It is a concrete realization of the class with actual values for its attributes."
   ]
  },
  {
   "cell_type": "code",
   "execution_count": 7,
   "metadata": {},
   "outputs": [
    {
     "name": "stdout",
     "output_type": "stream",
     "text": [
      "Toyota\n",
      "The Toyota Fortuner's engine is now running.\n"
     ]
    }
   ],
   "source": [
    "class Car:\n",
    "    def __init__(self, company, model, year):\n",
    "        self.company = company\n",
    "        self.model = model\n",
    "        self.year = year\n",
    "\n",
    "    def start_engine(self):\n",
    "        return f\"The {self.company} {self.model}'s engine is now running.\"\n",
    "\n",
    "my_car = Car(\"Toyota\", \"Fortuner\", 2022)\n",
    "\n",
    "print(my_car.company)  \n",
    "print(my_car.start_engine())"
   ]
  },
  {
   "cell_type": "markdown",
   "metadata": {},
   "source": [
    "Q2. Name the four pillars of OOPs.\n",
    "\n",
    "The four pillars of OOP are:\n",
    "1. Encapsulation\n",
    "2. Abstraction\n",
    "3. Inheritance\n",
    "4. Polymorphism"
   ]
  },
  {
   "cell_type": "markdown",
   "metadata": {},
   "source": [
    "Q3. Explain why the __init__() function is used. Give a suitable example.\n",
    "\n",
    "The __init__() function is used in Python to initialize an object's attributes when the object is created. It acts like a constructor and allows you to set up the initial values for the object."
   ]
  },
  {
   "cell_type": "code",
   "execution_count": 17,
   "metadata": {},
   "outputs": [],
   "source": [
    "class person:\n",
    "    def __init__(self, name, age):\n",
    "        self.name=name\n",
    "        self.age=age\n",
    "    \n",
    "    def greetigs(self):\n",
    "        return f\"Hii! my name is {self.name} & my age is {self.age}.\""
   ]
  },
  {
   "cell_type": "code",
   "execution_count": 18,
   "metadata": {},
   "outputs": [],
   "source": [
    "per1=person(\"Aniket\",\"22\")"
   ]
  },
  {
   "cell_type": "code",
   "execution_count": 21,
   "metadata": {},
   "outputs": [
    {
     "data": {
      "text/plain": [
       "'Hii! my name is Aniket & my age is 22.'"
      ]
     },
     "execution_count": 21,
     "metadata": {},
     "output_type": "execute_result"
    }
   ],
   "source": [
    "per1.greetigs()"
   ]
  },
  {
   "cell_type": "markdown",
   "metadata": {},
   "source": [
    "Q4. Why self is used in OOPs?\n",
    "\n",
    "In OOP, self is like a pointer, it is used to refer to the current object of a class. It allows access to the object's attributes and methods. When a method is called on an object, self helps the method know which object it is working with."
   ]
  },
  {
   "cell_type": "markdown",
   "metadata": {},
   "source": [
    "Q5. What is inheritance? Give an example for each type of inheritance.\n",
    "\n",
    "Inheritance is defined as the mechanism of inheriting the properties of the base class to the child class. It helps reuse code and build relationships between classes.\n",
    "Types of Inheritance:\n",
    "1. Single Inheritance\n",
    "2. Multiple Inheritance\n",
    "3. Multilevel Inheritance"
   ]
  },
  {
   "cell_type": "code",
   "execution_count": 30,
   "metadata": {},
   "outputs": [
    {
     "name": "stdout",
     "output_type": "stream",
     "text": [
      "Animal is speaking\n"
     ]
    }
   ],
   "source": [
    "#1. Single Inheritance: One child class inherits from one parent class.\n",
    "\n",
    "class Animal:\n",
    "    def speak(self):\n",
    "        return \"Animal is speaking\"\n",
    "\n",
    "class Dog(Animal):\n",
    "    pass\n",
    "\n",
    "dog = Dog()\n",
    "print(dog.speak())  "
   ]
  },
  {
   "cell_type": "code",
   "execution_count": 26,
   "metadata": {},
   "outputs": [
    {
     "name": "stdout",
     "output_type": "stream",
     "text": [
      "Eating\n",
      "Flying\n"
     ]
    }
   ],
   "source": [
    "#2. Multiple Inheritance: A child class inherits from more than one parent class.\n",
    "\n",
    "class Animal:\n",
    "    def eat(self):\n",
    "        return \"Eating\"\n",
    "\n",
    "class Bird:\n",
    "    def fly(self):\n",
    "        return \"Flying\"\n",
    "\n",
    "class Eagle(Animal, Bird):\n",
    "    pass\n",
    "\n",
    "eagle = Eagle()\n",
    "print(eagle.eat()) \n",
    "print(eagle.fly())  "
   ]
  },
  {
   "cell_type": "code",
   "execution_count": 58,
   "metadata": {},
   "outputs": [
    {
     "name": "stdout",
     "output_type": "stream",
     "text": [
      "Breathing\n",
      "Flying\n",
      "Talking\n"
     ]
    }
   ],
   "source": [
    "#3. Multilevel Inheritance: A class is derived from a child class, creating a chain.\n",
    "\n",
    "class Animal:\n",
    "    def breathe(self):\n",
    "        return \"Breathing\"\n",
    "\n",
    "class Bird(Animal):\n",
    "    def walk(self):\n",
    "        return \"Flying\"\n",
    "\n",
    "class Human(Bird):\n",
    "    def talk(self):\n",
    "        return \"Talking\"\n",
    "\n",
    "ability = Human()\n",
    "print(ability.breathe())  \n",
    "print(ability.walk())     \n",
    "print(ability.talk())     "
   ]
  },
  {
   "cell_type": "markdown",
   "metadata": {},
   "source": []
  }
 ],
 "metadata": {
  "kernelspec": {
   "display_name": "Python 3",
   "language": "python",
   "name": "python3"
  },
  "language_info": {
   "codemirror_mode": {
    "name": "ipython",
    "version": 3
   },
   "file_extension": ".py",
   "mimetype": "text/x-python",
   "name": "python",
   "nbconvert_exporter": "python",
   "pygments_lexer": "ipython3",
   "version": "3.12.6"
  }
 },
 "nbformat": 4,
 "nbformat_minor": 2
}
