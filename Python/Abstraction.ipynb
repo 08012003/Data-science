{
 "cells": [
  {
   "cell_type": "code",
   "execution_count": 1,
   "id": "40546cfb-c010-462b-84d2-8f751303e079",
   "metadata": {},
   "outputs": [],
   "source": [
    "import abc\n",
    "class pwskills:\n",
    "    \n",
    "    @abc.abstractmethod\n",
    "    def students_detials(self):\n",
    "        pass\n",
    "    \n",
    "    @abc.abstractmethod\n",
    "    def student_assignemnt(self):\n",
    "        pass\n",
    "    \n",
    "    @abc.abstractmethod\n",
    "    def student_marks(self):\n",
    "        pass"
   ]
  },
  {
   "cell_type": "code",
   "execution_count": 2,
   "id": "9013b08c-7341-45aa-89bd-35a09e6dc3ad",
   "metadata": {},
   "outputs": [],
   "source": [
    "class student_detils(pwskills):\n",
    "    \n",
    "    def students_detials(self):\n",
    "        return \"this is a meth for taking students details\"\n",
    "    \n",
    "    def student_assignemnt(self):\n",
    "        return \"this is a meth for assing details for a perticualt student\""
   ]
  },
  {
   "cell_type": "code",
   "execution_count": 3,
   "id": "28533a52-fc10-4a0a-b7ef-b579af429338",
   "metadata": {},
   "outputs": [],
   "source": [
    "class data_science_maters(pwskills):\n",
    "    \n",
    "    def students_detials(self):\n",
    "        return \"this will return a student details for data science masters \"\n",
    "    \n",
    "    def student_assignemnt(self):\n",
    "        return \"this will give you a studnt assignment detaild for data science masters \""
   ]
  },
  {
   "cell_type": "code",
   "execution_count": 4,
   "id": "8ee48a80-6f32-42c4-a32f-bdf6d743c971",
   "metadata": {},
   "outputs": [
    {
     "data": {
      "text/plain": [
       "'this will return a student details for data science masters '"
      ]
     },
     "execution_count": 4,
     "metadata": {},
     "output_type": "execute_result"
    }
   ],
   "source": [
    "dsm = data_science_maters()\n",
    "dsm.students_detials()"
   ]
  },
  {
   "cell_type": "code",
   "execution_count": 5,
   "id": "455b7a49-26a5-4b0c-be88-6e85963f2e0d",
   "metadata": {},
   "outputs": [
    {
     "data": {
      "text/plain": [
       "'this is a meth for taking students details'"
      ]
     },
     "execution_count": 5,
     "metadata": {},
     "output_type": "execute_result"
    }
   ],
   "source": [
    "sd= student_detils()\n",
    "sd.students_detials()"
   ]
  },
  {
   "cell_type": "markdown",
   "id": "53317604",
   "metadata": {},
   "source": [
    "Example"
   ]
  },
  {
   "cell_type": "code",
   "execution_count": 7,
   "id": "802ca483-b010-4d11-b57f-b8e36f1edcd5",
   "metadata": {},
   "outputs": [
    {
     "name": "stdout",
     "output_type": "stream",
     "text": [
      "Brand: Maruti\n",
      "Model: Alto\n",
      "Year: 2022\n",
      "Speed up ...\n",
      "Not having this feature\n"
     ]
    }
   ],
   "source": [
    "# Import required modules\n",
    "from abc import ABC, abstractmethod\n",
    "\n",
    "# Create Abstract base class\n",
    "class Car(ABC):\n",
    "    def __init__(self, brand, model, year):\n",
    "        self.brand = brand\n",
    "        self.model = model\n",
    "        self.year = year\n",
    "    \n",
    "    # Create abstract method      \n",
    "    @abstractmethod\n",
    "    def printDetails(self):\n",
    "        pass\n",
    "  \n",
    "    # Create concrete method\n",
    "    def accelerate(self):\n",
    "        print(\"Speed up ...\")\n",
    "  \n",
    "    def break_applied(self):\n",
    "        print(\"Car stopped\")\n",
    "\n",
    "# Create a child class\n",
    "class Hatchback(Car):\n",
    "    def printDetails(self):\n",
    "        print(\"Brand:\", self.brand)\n",
    "        print(\"Model:\", self.model)\n",
    "        print(\"Year:\", self.year)\n",
    "  \n",
    "    def sunroof(self):\n",
    "        print(\"Not having this feature\")\n",
    "\n",
    "# Create a child class\n",
    "class Suv(Car):\n",
    "    def printDetails(self):\n",
    "        print(\"Brand:\", self.brand)\n",
    "        print(\"Model:\", self.model)\n",
    "        print(\"Year:\", self.year)\n",
    "  \n",
    "    def sunroof(self):\n",
    "        print(\"Available\")\n",
    "\n",
    "# Create an instance of the Hatchback class\n",
    "car1 = Hatchback(\"Maruti\", \"Alto\", \"2022\")\n",
    "\n",
    "# Call methods\n",
    "car1.printDetails()\n",
    "car1.accelerate()\n",
    "car1.sunroof()"
   ]
  },
  {
   "cell_type": "code",
   "execution_count": 13,
   "id": "fff946a8",
   "metadata": {},
   "outputs": [
    {
     "name": "stdout",
     "output_type": "stream",
     "text": [
      "Brand: velar\n",
      "Model: range rover\n",
      "Year: 2024\n",
      "Available\n"
     ]
    }
   ],
   "source": [
    "car2 = Suv(\"velar\", \"range rover\", \"2024\")\n",
    "car2.printDetails()\n",
    "car2.sunroof()"
   ]
  },
  {
   "cell_type": "code",
   "execution_count": 23,
   "id": "1dfbfc7b",
   "metadata": {},
   "outputs": [],
   "source": [
    "from abc import ABC, abstractmethod\n",
    "\n",
    "class System(ABC):\n",
    "    def __init__(self, company, ram, rom, year):\n",
    "        self.company=company\n",
    "        self.ram=ram\n",
    "        self.rom=rom\n",
    "        self.year=year\n",
    "\n",
    "        @abstractmethod\n",
    "        def details(self):\n",
    "            pass\n",
    "\n",
    "        def good(self):\n",
    "            print(\"Good laptop\")\n",
    "\n",
    "        def bad(self):\n",
    "            print(\"bad laptop\")\n",
    "\n",
    "\n",
    "# Laptop\n",
    "\n",
    "class laptop(System):\n",
    "    def details(self):\n",
    "        print(\"company:\", self.company)\n",
    "        print(\"ram:\", self.ram)\n",
    "        print(\"rom:\", self.rom)\n",
    "        print(\"year:\", self.year)\n",
    "\n",
    "    def backlight(self):\n",
    "        print(\"Having backlight\")\n",
    "\n",
    "\n",
    "class dextop(System):\n",
    "    def details(self):\n",
    "        print(\"company:\", self.company)\n",
    "        print(\"ram:\", self.ram)\n",
    "        print(\"rom:\", self.rom)\n",
    "        print(\"year:\", self.year)\n",
    "\n",
    "    def backlight(self):\n",
    "        print(\"Not having backlight\")"
   ]
  },
  {
   "cell_type": "code",
   "execution_count": 26,
   "id": "6c66ce4c",
   "metadata": {},
   "outputs": [
    {
     "name": "stdout",
     "output_type": "stream",
     "text": [
      "company: dell\n",
      "ram: 16\n",
      "rom: 512\n",
      "year: 2024\n"
     ]
    }
   ],
   "source": [
    "sys1=laptop(\"dell\", 16, 512, 2024)\n",
    "sys1.details()"
   ]
  },
  {
   "cell_type": "code",
   "execution_count": 28,
   "id": "6a73cfcc",
   "metadata": {},
   "outputs": [
    {
     "name": "stdout",
     "output_type": "stream",
     "text": [
      "company: hp\n",
      "ram: 8\n",
      "rom: 256\n",
      "year: 2005\n",
      "Not having backlight\n"
     ]
    }
   ],
   "source": [
    "sys2=dextop(\"hp\", 8, 256, 2005)\n",
    "sys2.details()\n",
    "sys2.backlight()"
   ]
  },
  {
   "cell_type": "code",
   "execution_count": null,
   "id": "8a6f44a2",
   "metadata": {},
   "outputs": [],
   "source": []
  }
 ],
 "metadata": {
  "kernelspec": {
   "display_name": "Python 3 (ipykernel)",
   "language": "python",
   "name": "python3"
  },
  "language_info": {
   "codemirror_mode": {
    "name": "ipython",
    "version": 3
   },
   "file_extension": ".py",
   "mimetype": "text/x-python",
   "name": "python",
   "nbconvert_exporter": "python",
   "pygments_lexer": "ipython3",
   "version": "3.12.5"
  }
 },
 "nbformat": 4,
 "nbformat_minor": 5
}
