{
 "cells": [
  {
   "cell_type": "markdown",
   "metadata": {},
   "source": [
    "Q1. What is Abstraction in OOps? Explain with an example.\n",
    "\n",
    "Abstraction in OOP refers to hiding the complex implementation details and showing only the essential features of an object. It simplifies the interaction by focusing on what an object does, not how it does it.\n",
    "\n",
    "Imagine driving a car. You don’t need to know how the engine works internally, you just use the steering wheel and pedals."
   ]
  },
  {
   "cell_type": "code",
   "execution_count": 10,
   "metadata": {},
   "outputs": [
    {
     "name": "stdout",
     "output_type": "stream",
     "text": [
      "this is BMW\n",
      "this is toyota\n"
     ]
    }
   ],
   "source": [
    "from abc import ABC, abstractmethod\n",
    "\n",
    "class car(ABC):\n",
    "    @abstractmethod\n",
    "    def intro(self):\n",
    "        pass\n",
    "\n",
    "class bmw(car):\n",
    "    def intro(self):\n",
    "        return \"this is BMW\"\n",
    "    \n",
    "class toyota(car):\n",
    "    def intro(self):\n",
    "        return \"this is toyota\"\n",
    "    \n",
    "car1= bmw()\n",
    "car2=toyota() \n",
    "\n",
    "print(car1.intro())\n",
    "print(car2.intro())"
   ]
  },
  {
   "cell_type": "markdown",
   "metadata": {},
   "source": [
    "Q2. Differentiate between Abstraction and Encapsulation. Explain with an example.\n",
    "\n",
    "Abstraction:\n",
    "\n",
    "Focuses on hiding complexity and showing only the essential details.\n",
    "It deals with what an object does, not how it does it.\n",
    "Example: A car dashboard shows the speed, but you don’t see the internal mechanics of how the engine works.\n",
    "\n",
    "Encapsulation:\n",
    "\n",
    "Focuses on bundling data and methods into a single unit (class) and restricting direct access to some of the object’s components.\n",
    "It helps in protecting the internal state of an object by controlling how it's accessed or modified.\n",
    "Example: A car's engine is encapsulated inside the hood, and you can't directly change the engine's parts; you use the car's controls instead."
   ]
  },
  {
   "cell_type": "code",
   "execution_count": 3,
   "metadata": {},
   "outputs": [
    {
     "name": "stdout",
     "output_type": "stream",
     "text": [
      "Car is starting with a key.\n"
     ]
    }
   ],
   "source": [
    "#Abstraction\n",
    "\n",
    "from abc import ABC, abstractmethod\n",
    "\n",
    "class Vehicle(ABC):\n",
    "    @abstractmethod\n",
    "    def start(self):\n",
    "        pass\n",
    "\n",
    "class Car(Vehicle):\n",
    "    def start(self):\n",
    "        return \"Car is starting with a key.\"\n",
    "\n",
    "car = Car()\n",
    "print(car.start()) "
   ]
  },
  {
   "cell_type": "code",
   "execution_count": 5,
   "metadata": {},
   "outputs": [
    {
     "name": "stdout",
     "output_type": "stream",
     "text": [
      "Toyota\n",
      "Honda\n"
     ]
    }
   ],
   "source": [
    "#Encapsulation \n",
    "\n",
    "class Car:\n",
    "    def __init__(self, model):\n",
    "        self.__model = model  # private variable (encapsulated)\n",
    "\n",
    "    def get_model(self):\n",
    "        return self.__model   # controlled access\n",
    "\n",
    "    def set_model(self, model):\n",
    "        self.__model = model  # controlled modification\n",
    "\n",
    "my_car = Car(\"Toyota\")\n",
    "print(my_car.get_model())  \n",
    "my_car.set_model(\"Honda\")\n",
    "print(my_car.get_model()) \n"
   ]
  },
  {
   "cell_type": "markdown",
   "metadata": {},
   "source": [
    "Q3. What is abc module in python? Why is it used?\n",
    "\n",
    "The abc module in Python is used to create abstract classes. These are like blueprints for other classes and cannot be used to make objects directly. It makes sure that any class inheriting from an abstract class must implement certain methods.\n",
    "\n",
    "Why it's used:\n",
    "To enforce abstraction (hiding complex details).\n",
    "To make sure child classes follow the blueprint and implement required methods."
   ]
  },
  {
   "cell_type": "markdown",
   "metadata": {},
   "source": [
    "Q4. How can we achieve data abstraction?\n",
    "\n",
    "We can achieve data abstraction in Python by using abstract classes and interfaces that hide the internal details and only show the necessary functionality.\n",
    "\n",
    "Ways to achieve data abstraction:\n",
    "1. Using Abstract Classes:\n",
    "Abstract classes (created using the abc module) have abstract methods that must be implemented in the child classes. This hides the complex implementation but ensures the child classes provide specific functionality.\n",
    "\n",
    "2. Encapsulation:\n",
    "By making class attributes private (using __ before the variable name), we restrict access to the data. We can control how the data is accessed or modified using getter and setter methods.    "
   ]
  },
  {
   "cell_type": "markdown",
   "metadata": {},
   "source": [
    "Q5. Can we create an instance of an abstract class? Explain your answer.\n",
    "\n",
    "No, we cannot create an instance of an abstract class.\n",
    "\n",
    "An abstract class is meant to serve as a blueprint for other classes, containing abstract methods that must be implemented by its subclasses. Since it doesn’t provide complete implementation, it can’t be instantiated directly. Attempting to create an object from an abstract class will result in an error."
   ]
  },
  {
   "cell_type": "code",
   "execution_count": 8,
   "metadata": {},
   "outputs": [
    {
     "ename": "TypeError",
     "evalue": "Can't instantiate abstract class Animal without an implementation for abstract method 'sound'",
     "output_type": "error",
     "traceback": [
      "\u001b[1;31m---------------------------------------------------------------------------\u001b[0m",
      "\u001b[1;31mTypeError\u001b[0m                                 Traceback (most recent call last)",
      "Cell \u001b[1;32mIn[8], line 9\u001b[0m\n\u001b[0;32m      6\u001b[0m         \u001b[38;5;28;01mpass\u001b[39;00m\n\u001b[0;32m      8\u001b[0m \u001b[38;5;66;03m# Trying to create an instance of the abstract class\u001b[39;00m\n\u001b[1;32m----> 9\u001b[0m animal \u001b[38;5;241m=\u001b[39m \u001b[43mAnimal\u001b[49m\u001b[43m(\u001b[49m\u001b[43m)\u001b[49m  \u001b[38;5;66;03m# This will raise an error\u001b[39;00m\n",
      "\u001b[1;31mTypeError\u001b[0m: Can't instantiate abstract class Animal without an implementation for abstract method 'sound'"
     ]
    }
   ],
   "source": [
    "from abc import ABC, abstractmethod\n",
    "\n",
    "class Animal(ABC):  # Abstract class\n",
    "    @abstractmethod\n",
    "    def sound(self):\n",
    "        pass\n",
    "\n",
    "# Trying to create an instance of the abstract class\n",
    "animal = Animal()  # This will raise an error\n"
   ]
  },
  {
   "cell_type": "markdown",
   "metadata": {},
   "source": [
    "This raises a TypeError because Animal is an abstract class, and you can only instantiate its subclasses that provide implementations for the abstract methods."
   ]
  }
 ],
 "metadata": {
  "kernelspec": {
   "display_name": "Python 3",
   "language": "python",
   "name": "python3"
  },
  "language_info": {
   "codemirror_mode": {
    "name": "ipython",
    "version": 3
   },
   "file_extension": ".py",
   "mimetype": "text/x-python",
   "name": "python",
   "nbconvert_exporter": "python",
   "pygments_lexer": "ipython3",
   "version": "3.12.6"
  }
 },
 "nbformat": 4,
 "nbformat_minor": 2
}
