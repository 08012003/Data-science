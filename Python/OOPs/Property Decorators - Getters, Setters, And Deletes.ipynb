{
 "cells": [
  {
   "cell_type": "code",
   "execution_count": 1,
   "id": "caf07383-c83e-42ff-a628-42bce6a1e2b3",
   "metadata": {},
   "outputs": [],
   "source": [
    "class pwskills :\n",
    "    \n",
    "    def __init__(self , course_price , coruse_name):\n",
    "        \n",
    "        self.__course_price = course_price\n",
    "        self.course_name = coruse_name\n",
    "        \n",
    "    @property\n",
    "    def course_price_access(self) : \n",
    "        return self.__course_price\n",
    "    \n",
    "    @course_price_access.setter\n",
    "    def course_price_set(self , price ):\n",
    "        if price <= 3500:\n",
    "            pass\n",
    "        else :\n",
    "            self.__course_price = price\n",
    "            \n",
    "    @course_price_access.deleter\n",
    "    def delete_course_price(self) : \n",
    "        del self.__course_price\n",
    "    \n",
    "    "
   ]
  },
  {
   "cell_type": "code",
   "execution_count": 18,
   "id": "6d42cbed-230e-4fb2-9099-87d74748644f",
   "metadata": {},
   "outputs": [],
   "source": [
    "pw = pwskills(3500 , \"data science masters\")"
   ]
  },
  {
   "cell_type": "code",
   "execution_count": 19,
   "id": "6b666ab6-9e87-40a8-bd29-3cf49033ee84",
   "metadata": {},
   "outputs": [
    {
     "data": {
      "text/plain": [
       "3500"
      ]
     },
     "execution_count": 19,
     "metadata": {},
     "output_type": "execute_result"
    }
   ],
   "source": [
    "pw.course_price_access"
   ]
  },
  {
   "cell_type": "code",
   "execution_count": 20,
   "id": "4a7a45bb-c230-4637-93b1-d9d39bf1a3f6",
   "metadata": {},
   "outputs": [],
   "source": [
    "del pw.delete_course_price"
   ]
  },
  {
   "cell_type": "code",
   "execution_count": 21,
   "id": "42593724-c266-4ef9-b51c-d8ebeab75014",
   "metadata": {},
   "outputs": [
    {
     "ename": "AttributeError",
     "evalue": "'pwskills' object has no attribute '_pwskills__course_price'",
     "output_type": "error",
     "traceback": [
      "\u001b[1;31m---------------------------------------------------------------------------\u001b[0m",
      "\u001b[1;31mAttributeError\u001b[0m                            Traceback (most recent call last)",
      "Cell \u001b[1;32mIn[21], line 1\u001b[0m\n\u001b[1;32m----> 1\u001b[0m \u001b[43mpw\u001b[49m\u001b[38;5;241;43m.\u001b[39;49m\u001b[43mcourse_price_access\u001b[49m\n",
      "Cell \u001b[1;32mIn[1], line 10\u001b[0m, in \u001b[0;36mpwskills.course_price_access\u001b[1;34m(self)\u001b[0m\n\u001b[0;32m      8\u001b[0m \u001b[38;5;129m@property\u001b[39m\n\u001b[0;32m      9\u001b[0m \u001b[38;5;28;01mdef\u001b[39;00m \u001b[38;5;21mcourse_price_access\u001b[39m(\u001b[38;5;28mself\u001b[39m) : \n\u001b[1;32m---> 10\u001b[0m     \u001b[38;5;28;01mreturn\u001b[39;00m \u001b[38;5;28;43mself\u001b[39;49m\u001b[38;5;241;43m.\u001b[39;49m\u001b[43m__course_price\u001b[49m\n",
      "\u001b[1;31mAttributeError\u001b[0m: 'pwskills' object has no attribute '_pwskills__course_price'"
     ]
    }
   ],
   "source": [
    "pw.course_price_access"
   ]
  },
  {
   "cell_type": "code",
   "execution_count": 65,
   "id": "724ce64a-1a85-41c4-b066-38a8949cf2cf",
   "metadata": {},
   "outputs": [
    {
     "data": {
      "text/plain": [
       "3500"
      ]
     },
     "execution_count": 65,
     "metadata": {},
     "output_type": "execute_result"
    }
   ],
   "source": [
    "pw.course_price_access"
   ]
  },
  {
   "cell_type": "code",
   "execution_count": 7,
   "id": "2f00afe1-dd6b-417a-b18e-77ad3b3ace31",
   "metadata": {},
   "outputs": [
    {
     "ename": "TypeError",
     "evalue": "'int' object is not callable",
     "output_type": "error",
     "traceback": [
      "\u001b[1;31m---------------------------------------------------------------------------\u001b[0m",
      "\u001b[1;31mTypeError\u001b[0m                                 Traceback (most recent call last)",
      "Cell \u001b[1;32mIn[7], line 2\u001b[0m\n\u001b[0;32m      1\u001b[0m \u001b[38;5;66;03m# pw.course_price_set = 4500\u001b[39;00m\n\u001b[1;32m----> 2\u001b[0m \u001b[43mpw\u001b[49m\u001b[38;5;241;43m.\u001b[39;49m\u001b[43mcourse_price_set\u001b[49m\u001b[43m(\u001b[49m\u001b[38;5;241;43m2000\u001b[39;49m\u001b[43m)\u001b[49m\n",
      "\u001b[1;31mTypeError\u001b[0m: 'int' object is not callable"
     ]
    }
   ],
   "source": [
    "# pw.course_price_set = 4500"
   ]
  },
  {
   "cell_type": "code",
   "execution_count": 67,
   "id": "b2dc2aa3-8656-4958-afcb-11f37a031ed2",
   "metadata": {},
   "outputs": [
    {
     "data": {
      "text/plain": [
       "4500"
      ]
     },
     "execution_count": 67,
     "metadata": {},
     "output_type": "execute_result"
    }
   ],
   "source": [
    "pw.course_price_access"
   ]
  },
  {
   "cell_type": "code",
   "execution_count": null,
   "id": "f14aea99-3e31-4858-9b27-3be8d073e6f2",
   "metadata": {},
   "outputs": [],
   "source": [
    "pw.co"
   ]
  },
  {
   "cell_type": "code",
   "execution_count": 56,
   "id": "1e62ae53-dca2-4a05-9ed0-6d98006178ea",
   "metadata": {},
   "outputs": [
    {
     "data": {
      "text/plain": [
       "3500"
      ]
     },
     "execution_count": 56,
     "metadata": {},
     "output_type": "execute_result"
    }
   ],
   "source": [
    "pw._pwskills__course_price"
   ]
  },
  {
   "cell_type": "code",
   "execution_count": 57,
   "id": "aea2fb1e-b47a-401d-a6a8-52ee8d8cae94",
   "metadata": {},
   "outputs": [
    {
     "data": {
      "text/plain": [
       "'data science masters'"
      ]
     },
     "execution_count": 57,
     "metadata": {},
     "output_type": "execute_result"
    }
   ],
   "source": [
    "pw.course_name"
   ]
  },
  {
   "cell_type": "markdown",
   "id": "e43802ca",
   "metadata": {},
   "source": [
    "A property decorator is a built-in function in Python. Property decorator is a pythonic way to use getters and setters in object-oriented programming, which comes from the Python property class."
   ]
  },
  {
   "cell_type": "markdown",
   "id": "0ea9e350",
   "metadata": {},
   "source": [
    "@property\n",
    "\n",
    "A property decorator is used for setting the parameters. In OOP, the setter is an important part of the program as we can easily get the values passed in parameters. Without a setter, it is impossible to update the values passed as parameters during object creation. Setters are usually used in Oop to set the value of private attributes in a class. "
   ]
  },
  {
   "cell_type": "markdown",
   "id": "aff026f7",
   "metadata": {},
   "source": [
    "@function_name.setter is a setter method with which we can set the value of the attribute"
   ]
  },
  {
   "cell_type": "markdown",
   "id": "02c0b63e",
   "metadata": {},
   "source": [
    "Deleter is used to delete the values passed as a parameter before. We can use a setter if we want to update or change the value, but we can not use it to delete the value."
   ]
  },
  {
   "cell_type": "markdown",
   "id": "cd32496f",
   "metadata": {},
   "source": [
    "@function_name.deleter is a deleter method which can delete the assigned value by the setter method"
   ]
  },
  {
   "cell_type": "code",
   "execution_count": 22,
   "id": "a63797b0",
   "metadata": {},
   "outputs": [
    {
     "name": "stdout",
     "output_type": "stream",
     "text": [
      "Hindustani.Supporter@codewithharry.com\n",
      "US.Supporter@codewithharry.com\n",
      "Setting now...\n",
      "this\n",
      "Email is not set. Please set it using setter\n",
      "Setting now...\n",
      "Harry.Perry@codewithharry.com\n"
     ]
    }
   ],
   "source": [
    "class Employee:\n",
    "    def __init__(self, fname, lname):\n",
    "        self.fname = fname\n",
    "        self.lname = lname\n",
    "        # self.email = f\"{fname}.{lname}@codewithharry.com\"\n",
    "\n",
    "    def explain(self):\n",
    "        return f\"This employee is {self.fname} {self.lname}\"\n",
    "\n",
    "    @property\n",
    "    def email(self):\n",
    "        if self.fname==None or self.lname == None:\n",
    "            return \"Email is not set. Please set it using setter\"\n",
    "        return f\"{self.fname}.{self.lname}@codewithharry.com\"\n",
    "\n",
    "    @email.setter\n",
    "    def email(self, string):\n",
    "        print(\"Setting now...\")\n",
    "        names = string.split(\"@\")[0]\n",
    "        self.fname = names.split(\".\")[0]\n",
    "        self.lname = names.split(\".\")[1]\n",
    "\n",
    "    @email.deleter\n",
    "    def email(self):\n",
    "        self.fname = None\n",
    "        self.lname = None\n",
    "\n",
    "\n",
    "hindustani_supporter = Employee(\"Hindustani\", \"Supporter\")\n",
    "# nikhil_raj_pandey = Employee(\"Nikhil\", \"Raj\")\n",
    "\n",
    "print(hindustani_supporter.email)\n",
    "\n",
    "hindustani_supporter.fname = \"US\"\n",
    "\n",
    "print(hindustani_supporter.email)\n",
    "hindustani_supporter.email = \"this.that@codewithharry.com\"\n",
    "print(hindustani_supporter.fname)\n",
    "\n",
    "del hindustani_supporter.email\n",
    "print(hindustani_supporter.email)\n",
    "hindustani_supporter.email = \"Harry.Perry@codewithharry.com\"\n",
    "print(hindustani_supporter.email)\n"
   ]
  },
  {
   "cell_type": "code",
   "execution_count": 23,
   "id": "a1ada3f2",
   "metadata": {},
   "outputs": [],
   "source": [
    "my= Employee(\"aniket\", \"andhale\")"
   ]
  },
  {
   "cell_type": "code",
   "execution_count": 28,
   "id": "40f18275",
   "metadata": {},
   "outputs": [
    {
     "name": "stdout",
     "output_type": "stream",
     "text": [
      "aniket.andhale@codewithharry.com\n"
     ]
    }
   ],
   "source": [
    "print(my.email)"
   ]
  },
  {
   "cell_type": "code",
   "execution_count": 29,
   "id": "e8ec3fd6",
   "metadata": {},
   "outputs": [],
   "source": [
    "my.fname= \"USA\""
   ]
  },
  {
   "cell_type": "code",
   "execution_count": 30,
   "id": "1e3fe42f",
   "metadata": {},
   "outputs": [
    {
     "data": {
      "text/plain": [
       "'USA.andhale@codewithharry.com'"
      ]
     },
     "execution_count": 30,
     "metadata": {},
     "output_type": "execute_result"
    }
   ],
   "source": [
    "my.email"
   ]
  },
  {
   "cell_type": "code",
   "execution_count": 31,
   "id": "1ea68164",
   "metadata": {},
   "outputs": [],
   "source": [
    "del my.email"
   ]
  },
  {
   "cell_type": "code",
   "execution_count": 32,
   "id": "9e2ce2ec",
   "metadata": {},
   "outputs": [
    {
     "data": {
      "text/plain": [
       "'Email is not set. Please set it using setter'"
      ]
     },
     "execution_count": 32,
     "metadata": {},
     "output_type": "execute_result"
    }
   ],
   "source": [
    "my.email"
   ]
  },
  {
   "cell_type": "code",
   "execution_count": null,
   "id": "c089a834",
   "metadata": {},
   "outputs": [],
   "source": []
  }
 ],
 "metadata": {
  "kernelspec": {
   "display_name": "Python 3 (ipykernel)",
   "language": "python",
   "name": "python3"
  },
  "language_info": {
   "codemirror_mode": {
    "name": "ipython",
    "version": 3
   },
   "file_extension": ".py",
   "mimetype": "text/x-python",
   "name": "python",
   "nbconvert_exporter": "python",
   "pygments_lexer": "ipython3",
   "version": "3.12.6"
  }
 },
 "nbformat": 4,
 "nbformat_minor": 5
}
