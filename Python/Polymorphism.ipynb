{
 "cells": [
  {
   "cell_type": "code",
   "execution_count": 1,
   "id": "45f9389f-5d1f-459d-a08a-3ec5ae86d212",
   "metadata": {},
   "outputs": [],
   "source": [
    "def test(a , b ) :\n",
    "    return a+b "
   ]
  },
  {
   "cell_type": "code",
   "execution_count": 2,
   "id": "515d5b7f-3024-43ec-a129-2a1604d7857f",
   "metadata": {},
   "outputs": [
    {
     "data": {
      "text/plain": [
       "7"
      ]
     },
     "execution_count": 2,
     "metadata": {},
     "output_type": "execute_result"
    }
   ],
   "source": [
    "test(3,4)"
   ]
  },
  {
   "cell_type": "code",
   "execution_count": 14,
   "id": "01ec3d55",
   "metadata": {},
   "outputs": [],
   "source": [
    "def multi(b, c):\n",
    "    return b*c"
   ]
  },
  {
   "cell_type": "code",
   "execution_count": 15,
   "id": "92b018bd",
   "metadata": {},
   "outputs": [
    {
     "data": {
      "text/plain": [
       "20"
      ]
     },
     "execution_count": 15,
     "metadata": {},
     "output_type": "execute_result"
    }
   ],
   "source": [
    "multi(4,5)"
   ]
  },
  {
   "cell_type": "code",
   "execution_count": 3,
   "id": "a045a472-2463-4043-bbbd-a6310cc8aca3",
   "metadata": {},
   "outputs": [
    {
     "data": {
      "text/plain": [
       "'sudh kumar '"
      ]
     },
     "execution_count": 3,
     "metadata": {},
     "output_type": "execute_result"
    }
   ],
   "source": [
    "test(\"sudh \" , \"kumar \" )"
   ]
  },
  {
   "cell_type": "code",
   "execution_count": 4,
   "id": "bc428ceb-1ba4-44b8-891b-8da60c6ac15d",
   "metadata": {},
   "outputs": [
    {
     "data": {
      "text/plain": [
       "[3, 4, 5, 6, 45, 767, 67]"
      ]
     },
     "execution_count": 4,
     "metadata": {},
     "output_type": "execute_result"
    }
   ],
   "source": [
    "test([3,4,5,6] , [45,767,67])"
   ]
  },
  {
   "cell_type": "code",
   "execution_count": 33,
   "id": "68830dd0-143d-47f3-9793-dcf1a393c1b3",
   "metadata": {},
   "outputs": [],
   "source": [
    "class data_science:\n",
    "    \n",
    "    def syllabus(self) : \n",
    "        print(\"this is my syllabus for data science masters \")"
   ]
  },
  {
   "cell_type": "code",
   "execution_count": 34,
   "id": "46462eda-4088-4c8d-a747-841ca74d4c11",
   "metadata": {},
   "outputs": [],
   "source": [
    "class web_dev:\n",
    "    \n",
    "    def syllabus(self) : \n",
    "        print(\"this is  my subllabus for web dev\" )"
   ]
  },
  {
   "cell_type": "code",
   "execution_count": 35,
   "id": "39e567ea-444a-46df-80df-43e7d8048c2f",
   "metadata": {},
   "outputs": [],
   "source": [
    "def class_parcer(class_obj):\n",
    "    for i in class_obj : \n",
    "        i.syllabus()"
   ]
  },
  {
   "cell_type": "code",
   "execution_count": 36,
   "id": "026c29e9-52e9-4423-9b11-ed5be8a85d8f",
   "metadata": {},
   "outputs": [],
   "source": [
    "data_science1 = data_science()"
   ]
  },
  {
   "cell_type": "code",
   "execution_count": 37,
   "id": "5dd0fa04-f0f7-4338-a16c-45833fd0deb1",
   "metadata": {},
   "outputs": [],
   "source": [
    "web_dev1 = web_dev()"
   ]
  },
  {
   "cell_type": "code",
   "execution_count": 40,
   "id": "325d7727-41c6-44f5-95f9-94071b72aa58",
   "metadata": {},
   "outputs": [],
   "source": [
    "class_obj = [data_science1 , web_dev1]"
   ]
  },
  {
   "cell_type": "code",
   "execution_count": 41,
   "id": "dedc2bf9-0aeb-4fdb-b001-b8144d06fcf7",
   "metadata": {},
   "outputs": [
    {
     "name": "stdout",
     "output_type": "stream",
     "text": [
      "this is my syllabus for data science masters \n",
      "this is  my subllabus for web dev\n"
     ]
    }
   ],
   "source": [
    "class_parcer(class_obj)"
   ]
  },
  {
   "cell_type": "code",
   "execution_count": 58,
   "id": "bc6625ef",
   "metadata": {},
   "outputs": [],
   "source": [
    "class rohit:\n",
    "    def speech(self):\n",
    "        print(\"Hii rani\")"
   ]
  },
  {
   "cell_type": "code",
   "execution_count": 59,
   "id": "4b16534d",
   "metadata": {},
   "outputs": [],
   "source": [
    "class rani:\n",
    "    def speech(self):\n",
    "        print(\"Hello rohit\")"
   ]
  },
  {
   "cell_type": "code",
   "execution_count": 60,
   "id": "73873121",
   "metadata": {},
   "outputs": [],
   "source": [
    "def dialog_maker(speech_obj):\n",
    "    for i in speech_obj:\n",
    "        i.speech()"
   ]
  },
  {
   "cell_type": "code",
   "execution_count": 61,
   "id": "3dd0c2f4",
   "metadata": {},
   "outputs": [],
   "source": [
    "rohit_speech=rohit()"
   ]
  },
  {
   "cell_type": "code",
   "execution_count": 62,
   "id": "73be884b",
   "metadata": {},
   "outputs": [],
   "source": [
    "rani_speech= rani()"
   ]
  },
  {
   "cell_type": "code",
   "execution_count": 63,
   "id": "678fc9d0",
   "metadata": {},
   "outputs": [],
   "source": [
    "speech_obj=[rohit_speech, rani_speech]"
   ]
  },
  {
   "cell_type": "code",
   "execution_count": 64,
   "id": "7433066d",
   "metadata": {},
   "outputs": [
    {
     "name": "stdout",
     "output_type": "stream",
     "text": [
      "Hii rani\n",
      "Hello rohit\n"
     ]
    }
   ],
   "source": [
    "dialog_maker(speech_obj)"
   ]
  },
  {
   "cell_type": "code",
   "execution_count": null,
   "id": "c281f76a",
   "metadata": {},
   "outputs": [],
   "source": []
  }
 ],
 "metadata": {
  "kernelspec": {
   "display_name": "Python 3 (ipykernel)",
   "language": "python",
   "name": "python3"
  },
  "language_info": {
   "codemirror_mode": {
    "name": "ipython",
    "version": 3
   },
   "file_extension": ".py",
   "mimetype": "text/x-python",
   "name": "python",
   "nbconvert_exporter": "python",
   "pygments_lexer": "ipython3",
   "version": "3.12.5"
  }
 },
 "nbformat": 4,
 "nbformat_minor": 5
}
